{
  "nbformat": 4,
  "nbformat_minor": 0,
  "metadata": {
    "colab": {
      "name": "Assignment 2.ipynb",
      "provenance": []
    },
    "kernelspec": {
      "name": "python3",
      "display_name": "Python 3"
    },
    "language_info": {
      "name": "python"
    }
  },
  "cells": [
    {
      "cell_type": "markdown",
      "source": [
        "# 1.What are the two values of the Boolean data type? How do you write them?\n",
        "\n",
        "Ans: Booleon datatype only has two values True and False. we can write booleon datatypes in many ways like if we compare two values the expression is evaluated  and result the booleon answer. below code is a example of booleon datatypes."
      ],
      "metadata": {
        "id": "QqKrLJcC98rp"
      }
    },
    {
      "cell_type": "code",
      "execution_count": null,
      "metadata": {
        "id": "4sj1HoEH1JPG",
        "colab": {
          "base_uri": "https://localhost:8080/"
        },
        "outputId": "ece5f06d-e032-4252-9ba6-60400db4f040"
      },
      "outputs": [
        {
          "output_type": "execute_result",
          "data": {
            "text/plain": [
              "False"
            ]
          },
          "metadata": {},
          "execution_count": 1
        }
      ],
      "source": [
        "1>=2"
      ]
    },
    {
      "cell_type": "code",
      "source": [
        "1<=3"
      ],
      "metadata": {
        "colab": {
          "base_uri": "https://localhost:8080/"
        },
        "id": "9Ba8284y96_5",
        "outputId": "969f2909-4015-4239-afb7-bc3665cc8599"
      },
      "execution_count": null,
      "outputs": [
        {
          "output_type": "execute_result",
          "data": {
            "text/plain": [
              "True"
            ]
          },
          "metadata": {},
          "execution_count": 2
        }
      ]
    },
    {
      "cell_type": "markdown",
      "source": [
        "# 2: What are the three different types of Boolean operators?\n",
        "\n",
        "Ans: In python generally 2 type of booleon operators category that return Booleon values \n",
        "\n",
        "1. Logical operator:\n",
        "    And, or and Not these are also called logical operators.:\n",
        "\n",
        "\n",
        "2. comparison operator :\n",
        "   As the name says the comparison operator compares two values \n",
        "    ==, <=, >=, !=     etc \n",
        "\n",
        "\n",
        "\n",
        "\n",
        "\n",
        "\n",
        "\n"
      ],
      "metadata": {
        "id": "hRYHKmx1_NQB"
      }
    },
    {
      "cell_type": "code",
      "source": [
        "# here we can see the example of OR operator \n",
        "# this operator gives true if one of the value is true otherwise its false \n",
        "1==1 or 1==2"
      ],
      "metadata": {
        "colab": {
          "base_uri": "https://localhost:8080/"
        },
        "id": "wUoUZ9qyuLcX",
        "outputId": "e195c2c0-b03c-496d-eafb-bf80a943373b"
      },
      "execution_count": null,
      "outputs": [
        {
          "output_type": "execute_result",
          "data": {
            "text/plain": [
              "True"
            ]
          },
          "metadata": {},
          "execution_count": 1
        }
      ]
    },
    {
      "cell_type": "code",
      "source": [
        "# and give false if one of the expression is false otherwise True\n",
        "1==1 and 1==2"
      ],
      "metadata": {
        "id": "XzcfRtQ3uxvr"
      },
      "execution_count": null,
      "outputs": []
    },
    {
      "cell_type": "code",
      "source": [
        "# not interchange true and False\n",
        "x=False\n",
        "y=True\n",
        "print(not(x))\n",
        "print(not(y))"
      ],
      "metadata": {
        "colab": {
          "base_uri": "https://localhost:8080/"
        },
        "id": "J0zYZ7hevHkf",
        "outputId": "43c1498f-4c82-4041-bb0e-a744d091601c"
      },
      "execution_count": null,
      "outputs": [
        {
          "output_type": "stream",
          "name": "stdout",
          "text": [
            "True\n",
            "False\n"
          ]
        }
      ]
    },
    {
      "cell_type": "markdown",
      "source": [
        "# 3: Make a list of each Boolean operator&#39;s truth tables (i.e. every possible combination of Boolean values for the operator and what it evaluate ).\n",
        "\n",
        "there are 3 booleon operator and or and not \n",
        "\n",
        "1. and: \n",
        "        True and True is True.\n",
        "        True and False is False.\n",
        "        False and True is False.\n",
        "        False and False is False.\n",
        "2. or:  \n",
        "        True or True is True.\n",
        "        True or False is True.\n",
        "        False or True is True.\n",
        "        False or False is False.\n",
        "3. Not: \n",
        "        not True is False.\n",
        "        not False is True.\n"
      ],
      "metadata": {
        "id": "QXeAyXO3D5u7"
      }
    },
    {
      "cell_type": "markdown",
      "source": [
        "# 3. Make a list of each Boolean operator&#39;s truth tables (i.e. every possible combination of Boolean\n",
        "values for the operator and what it evaluate ).\n",
        "Ans:\n",
        "\n",
        "\n",
        "\n",
        "\n",
        "\n",
        "\n",
        "\n",
        "\n"
      ],
      "metadata": {
        "id": "-OgZRD3xn0Zy"
      }
    },
    {
      "cell_type": "code",
      "source": [
        "x = 12\n",
        "y = 45\n",
        "\n",
        "print(\"Equal to operator x == y:\", x == y)\n",
        "print(\"Not equal to x != y:\", x != y)\n",
        "print(\"less then x < y:\", x < y)\n",
        "print(\"greater then x > y:\", x > y)\n",
        "print(\"lessthen equal to x <= y:\", x <= y)\n",
        "print(\"greater then equal to x >= y:\", x >= y)"
      ],
      "metadata": {
        "colab": {
          "base_uri": "https://localhost:8080/"
        },
        "id": "meJTspG3Asqp",
        "outputId": "ec8a6b12-60fe-4b86-cac9-79b31951cf75"
      },
      "execution_count": null,
      "outputs": [
        {
          "output_type": "stream",
          "name": "stdout",
          "text": [
            "Equal to operator x == y: False\n",
            "Not equal to x != y: True\n",
            "less then x < y: True\n",
            "greater then x > y: False\n",
            "lessthen equal to x <= y: True\n",
            "greater then equal to x >= y: False\n"
          ]
        }
      ]
    },
    {
      "cell_type": "markdown",
      "source": [
        "# 4. What are the values of the following expressions?\n",
        "\n",
        "     (5 &gt; 4) and (3 == 5),\n",
        "\n",
        "      not (5 &gt; 4),\n",
        "\n",
        "      (5 &gt; 4) or (3 == 5),\n",
        "\n",
        "      not ((5 &gt; 4) or (3 == 5)),\n",
        "\n",
        "      (True and True) and (True == False),\n",
        "      \n",
        "      (not False) or (not True)"
      ],
      "metadata": {
        "id": "v1LbbTekCSkP"
      }
    },
    {
      "cell_type": "code",
      "source": [
        " # here and is logical operator and it return true if both values are true\n",
        "print((5 > 4) and (3 == 5))\n",
        "print(not(5>4))\n",
        "\n",
        "print((5>4)or(3==5))\n",
        "\n",
        "print(not(5>4)or(3==5))\n",
        "\n",
        "print((True and True)and(True==False))\n",
        "\n",
        "print((not False)or(not True))"
      ],
      "metadata": {
        "colab": {
          "base_uri": "https://localhost:8080/"
        },
        "id": "ivzOTCgrFE4q",
        "outputId": "21b155e4-f4db-4eb5-e7f4-84fa050faa1c"
      },
      "execution_count": null,
      "outputs": [
        {
          "output_type": "stream",
          "name": "stdout",
          "text": [
            "False\n",
            "False\n",
            "True\n",
            "False\n",
            "False\n",
            "True\n"
          ]
        }
      ]
    },
    {
      "cell_type": "markdown",
      "source": [
        "#5 What are the six comparison operators?\n",
        "comparison operator are used to compare below is mention and its example \n",
        "\n",
        "1. equal too: ==,\n",
        "2. less then : <,\n",
        "3. greater then:  >, \n",
        "4. less then equal too : <=, \n",
        "5. greater then equal too:  >=, \n",
        "6. Not equal too : !=\n"
      ],
      "metadata": {
        "id": "LK4_2b6uriQ9"
      }
    },
    {
      "cell_type": "markdown",
      "source": [
        "# 6.How do you tell the difference between the equal to and assignment operators?Describe a condition and when you would use one.\n",
        "\n",
        "Ans: As name says equal to \" == \" operator compare two operands whether they are equal or not.\n",
        "\n",
        "On the other hand assignment operator used as assign some value to variable \n"
      ],
      "metadata": {
        "id": "nv6jEBp9tRYp"
      }
    },
    {
      "cell_type": "code",
      "source": [
        "#example \n",
        "Myage = 24 # here we assigned 24 in variable Myage\n",
        "\n",
        "frnd_age = 26\n",
        "\n",
        "# below code actually compare my age and friend age and through result \"False\" because age are not same \n",
        "\n",
        "compare_Age= Myage == frnd_age   \n",
        "\n",
        "print(compare_Age)"
      ],
      "metadata": {
        "colab": {
          "base_uri": "https://localhost:8080/"
        },
        "id": "B3XaWBayrcPT",
        "outputId": "b5c6db99-2fbf-4837-f2ae-3a111255702d"
      },
      "execution_count": null,
      "outputs": [
        {
          "output_type": "stream",
          "name": "stdout",
          "text": [
            "False\n"
          ]
        }
      ]
    },
    {
      "cell_type": "markdown",
      "source": [
        "#7. Identify the three blocks in this code:\n",
        "Ans. Explanation code \n",
        "\n",
        "1. if spam == 10:\n",
        "\n",
        "    print(\"eggs\")\n",
        "\n",
        "here is 1st block try to compare if spam value is equal to 10 then print egg\n",
        "\n",
        "2. if spam>5:\n",
        "\n",
        "    print(\"Bacon\")\n",
        "\n",
        "2nd comparision try to compare spam is greater then 5 then print Bacon\n",
        "\n",
        "3. else:\n",
        "\n",
        "    print(\"Ham\")\n",
        "\n",
        "    print(\"spam\")\n",
        "\n",
        "    print(\"spam\")\n",
        "\n",
        "this block if first two block is false then this will execute and print result \n"
      ],
      "metadata": {
        "id": "yrRm_RJMyVFR"
      }
    },
    {
      "cell_type": "code",
      "source": [
        "spam = 0\n",
        "if spam == 10:\n",
        "  print(\"eggs\")\n",
        "if spam>5:\n",
        "  print(\"Bacon\")\n",
        "else:\n",
        "  print(\"Ham\")\n",
        "  print(\"spam\")\n",
        "  print(\"spam\")"
      ],
      "metadata": {
        "colab": {
          "base_uri": "https://localhost:8080/"
        },
        "id": "HFO3Sp_Dyvsn",
        "outputId": "cd2b72c1-59d7-46b0-d95b-e9df25311afe"
      },
      "execution_count": null,
      "outputs": [
        {
          "output_type": "stream",
          "name": "stdout",
          "text": [
            "Ham\n",
            "spam\n",
            "spam\n"
          ]
        }
      ]
    },
    {
      "cell_type": "markdown",
      "source": [
        "#8. Write code that prints Hello if 1 is stored in spam, prints Howdy if 2 is stored in spam, and prints Greetings! if anything else is stored in spam.\n",
        "\n"
      ],
      "metadata": {
        "id": "nxU0saGG2JI-"
      }
    },
    {
      "cell_type": "code",
      "source": [
        "spam=int(input(\"type a No. to get a result: \"))\n",
        "if spam==1:\n",
        "  print(\"hellO\")\n",
        "elif spam==2:\n",
        "  print(\"howdy\")\n",
        "else:\n",
        "  print(\"Greeting !\")"
      ],
      "metadata": {
        "colab": {
          "base_uri": "https://localhost:8080/"
        },
        "id": "04JJ-bFM2TZO",
        "outputId": "4f260cdf-b680-47dc-a7df-620c968e286b"
      },
      "execution_count": null,
      "outputs": [
        {
          "output_type": "stream",
          "name": "stdout",
          "text": [
            "type a No. to get a result: 2\n",
            "howdy\n"
          ]
        }
      ]
    },
    {
      "cell_type": "markdown",
      "source": [
        "# 9.If your programme is stuck in an endless loop, what keys you’ll press?\n",
        "\n",
        "Ans: If our program will stuck in endless loop then we need to interrupt our program in Google colab we can use 'ctrl+i\" to kill the program and  ctrl-C to stop a program stuck in an infinite loop."
      ],
      "metadata": {
        "id": "Py3BrdmiHNew"
      }
    },
    {
      "cell_type": "markdown",
      "source": [
        "# 10. How can you tell the difference between break and continue?\n",
        "\n",
        "break and continue also called loop control statement because it control the loop.\n",
        "break statement are used to terminate the loop which it is in present after that it will pass to next statement .\n",
        "\n",
        "continue is apposite to break statement as the name says it will force the loop to continue the program without any intruption. instead of terminating the loop it forces to execute the next iteration of the loop the code inside the loop following the continue statement will be skipped and the next iteration of the loop will begin."
      ],
      "metadata": {
        "id": "puj-WXGrKSHu"
      }
    },
    {
      "cell_type": "code",
      "source": [
        "#break\n",
        "#this will intrupt or terminate loop which include break \n",
        "for val in \"Ineuron\":\n",
        "  if val==\"o\":\n",
        "    break\n",
        "  print(val, end=\" \")"
      ],
      "metadata": {
        "colab": {
          "base_uri": "https://localhost:8080/"
        },
        "id": "YfwekfCJVGKc",
        "outputId": "7c83510a-3db5-4912-a589-542fc3aa1016"
      },
      "execution_count": null,
      "outputs": [
        {
          "output_type": "stream",
          "name": "stdout",
          "text": [
            "I n e u r "
          ]
        }
      ]
    },
    {
      "cell_type": "code",
      "source": [
        "#continue\n",
        "# this program says 6 and 15 are skipped and continue the program without any terminate\n",
        "for i in range(20):\n",
        "  if i==6 or i==15:\n",
        "    continue\n",
        "  print(i,end=\" \")"
      ],
      "metadata": {
        "colab": {
          "base_uri": "https://localhost:8080/"
        },
        "id": "tmVilf4HV6r7",
        "outputId": "2ce05bfb-9ee5-4ed9-9cec-446e4c568ca4"
      },
      "execution_count": null,
      "outputs": [
        {
          "output_type": "stream",
          "name": "stdout",
          "text": [
            "0 1 2 3 4 5 7 8 9 10 11 12 13 14 16 17 18 19 "
          ]
        }
      ]
    },
    {
      "cell_type": "markdown",
      "source": [
        "# 11. In a for loop, what is the difference between range(10), range(0, 10), and range(0, 10, 1)?\n",
        "\n",
        "Ans: we can understand by example:\n",
        "1. range(10): this fuction have onle one argument and this means the range goes to 0 to 10 \n",
        "2. range(0,10): This fuction takes 2 value called start and stop like this range(start, stop) we can put any value.\n",
        "3. range(0,10,2): this include one extra arg 2 mean step size "
      ],
      "metadata": {
        "id": "LXeHvMugX7YY"
      }
    },
    {
      "cell_type": "code",
      "source": [
        "# range(10) will print no. 0 to 10\n",
        "for i in range(10):\n",
        "  print(i)"
      ],
      "metadata": {
        "colab": {
          "base_uri": "https://localhost:8080/"
        },
        "id": "8vi5J0klalSt",
        "outputId": "0839070f-573f-4287-a13f-1fd33e929229"
      },
      "execution_count": null,
      "outputs": [
        {
          "output_type": "stream",
          "name": "stdout",
          "text": [
            "0\n",
            "1\n",
            "2\n",
            "3\n",
            "4\n",
            "5\n",
            "6\n",
            "7\n",
            "8\n",
            "9\n"
          ]
        }
      ]
    },
    {
      "cell_type": "code",
      "source": [
        "# range(start, stop) it is basically have two argument it only show between the two no. lets take example\n",
        "for i in range(10,20):\n",
        "  print(i)"
      ],
      "metadata": {
        "colab": {
          "base_uri": "https://localhost:8080/"
        },
        "id": "b9u2MFx-a4Bq",
        "outputId": "096e8ca2-024f-4a10-c517-afbe8c4b4237"
      },
      "execution_count": null,
      "outputs": [
        {
          "output_type": "stream",
          "name": "stdout",
          "text": [
            "10\n",
            "11\n",
            "12\n",
            "13\n",
            "14\n",
            "15\n",
            "16\n",
            "17\n",
            "18\n",
            "19\n"
          ]
        }
      ]
    },
    {
      "cell_type": "code",
      "source": [
        "#range(0, 10, 1) it has step size 3rd value is step size this will used to \n",
        "#step: integer value which determines the increment between each integer in the sequence\n",
        "for i in range(1,10,2):\n",
        "  print(i)"
      ],
      "metadata": {
        "id": "OVQVMjBWbube",
        "colab": {
          "base_uri": "https://localhost:8080/"
        },
        "outputId": "f237add7-ad18-47f6-9686-791158aa6204"
      },
      "execution_count": 1,
      "outputs": [
        {
          "output_type": "stream",
          "name": "stdout",
          "text": [
            "1\n",
            "3\n",
            "5\n",
            "7\n",
            "9\n"
          ]
        }
      ]
    },
    {
      "cell_type": "markdown",
      "source": [
        "# 12. Write a short program that prints the numbers 1 to 10 using a for loop. Then write an equivalentprogram that prints the numbers 1 to 10 using a while loop.\n",
        "\n",
        "Ans:"
      ],
      "metadata": {
        "id": "_idl1WNhLDeH"
      }
    },
    {
      "cell_type": "code",
      "source": [
        "# using for loop \n",
        "for i in range(11):\n",
        "  print(i)"
      ],
      "metadata": {
        "colab": {
          "base_uri": "https://localhost:8080/"
        },
        "id": "ZOgd16IHLLBq",
        "outputId": "ba4d5717-9da1-4b0d-dd17-3cadd8b62e78"
      },
      "execution_count": 3,
      "outputs": [
        {
          "output_type": "stream",
          "name": "stdout",
          "text": [
            "0\n",
            "1\n",
            "2\n",
            "3\n",
            "4\n",
            "5\n",
            "6\n",
            "7\n",
            "8\n",
            "9\n",
            "10\n"
          ]
        }
      ]
    },
    {
      "cell_type": "code",
      "source": [
        "#using While loop\n",
        "i=0\n",
        "while i<=10:\n",
        "  print(i)\n",
        "  i+=1"
      ],
      "metadata": {
        "colab": {
          "base_uri": "https://localhost:8080/"
        },
        "id": "Pm1y-xwKLbmK",
        "outputId": "117ea20b-fe1c-4b11-86ea-1df2cccd32c2"
      },
      "execution_count": 2,
      "outputs": [
        {
          "output_type": "stream",
          "name": "stdout",
          "text": [
            "0\n",
            "1\n",
            "2\n",
            "3\n",
            "4\n",
            "5\n",
            "6\n",
            "7\n",
            "8\n",
            "9\n",
            "10\n"
          ]
        }
      ]
    },
    {
      "cell_type": "markdown",
      "source": [
        "# 13. If you had a function named bacon() inside a module named spam, how would you call it afterimporting spam?\n",
        "\n",
        "Ans: after importing module we can call fuction by using spam.bacon()\n"
      ],
      "metadata": {
        "id": "NwxsJrQmMByH"
      }
    }
  ]
}