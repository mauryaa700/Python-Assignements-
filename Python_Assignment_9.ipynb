{
  "nbformat": 4,
  "nbformat_minor": 0,
  "metadata": {
    "colab": {
      "provenance": []
    },
    "kernelspec": {
      "name": "python3",
      "display_name": "Python 3"
    },
    "language_info": {
      "name": "python"
    }
  },
  "cells": [
    {
      "cell_type": "markdown",
      "source": [
        "###1. To what does a relative path refer?\n",
        "\n",
        "Ans:A relative path refers to a location that is relative to a current directory. Relative paths make use of two special symbols, a dot (.)"
      ],
      "metadata": {
        "id": "E1MDXTFwc5Lu"
      }
    },
    {
      "cell_type": "markdown",
      "source": [
        "###2. What does an absolute path start with your operating system?\n",
        "\n",
        "Ans:An absolute path is a path that contains the entire path to the file or directory that you need to access. This path will begin at the home directory of your computer and will end with the file or directory that you wish to access. Absolute paths ensure that Python can find the exact file on your computer.\n",
        "\n",
        "Absolute paths start with the root folder, C:\\.\n",
        "\n",
        "In my case: (pythonProject4) PS C:\\Users\\Hp\\PycharmProjects\\pythonProject4>\n"
      ],
      "metadata": {
        "id": "ZOf9Yxltdnj4"
      }
    },
    {
      "cell_type": "markdown",
      "source": [
        "###3. What do the functions os.getcwd() and os.chdir() do?\n",
        "\n",
        "ans:The os.getcwd() function returns the current working directory. The os.chdir() function changes the current working directory."
      ],
      "metadata": {
        "id": "IY_fo3Usetkt"
      }
    },
    {
      "cell_type": "code",
      "execution_count": 3,
      "metadata": {
        "colab": {
          "base_uri": "https://localhost:8080/",
          "height": 36
        },
        "id": "ooNgLynEchrO",
        "outputId": "e36c1100-7296-47bb-b560-fe6602bc2ee5"
      },
      "outputs": [
        {
          "output_type": "execute_result",
          "data": {
            "text/plain": [
              "'/content'"
            ],
            "application/vnd.google.colaboratory.intrinsic+json": {
              "type": "string"
            }
          },
          "metadata": {},
          "execution_count": 3
        }
      ],
      "source": [
        "import os\n",
        "currdir=os.getcwd()\n",
        "currdir"
      ]
    },
    {
      "cell_type": "markdown",
      "source": [
        "###4. What are the . and .. folders?\n",
        "\n",
        "Ans:The . folder is the current folder, and .. is the parent folder."
      ],
      "metadata": {
        "id": "f8hkk1S-gfFC"
      }
    },
    {
      "cell_type": "markdown",
      "source": [
        "###5. In C:\\bacon\\eggs\\spam.txt, which part is the dir name, and which part is the base name?\n",
        "\n",
        "Ans:C:\\bacon\\eggs is the dir name, while spam.txt is the base name."
      ],
      "metadata": {
        "id": "mrE1jNFbgxsh"
      }
    },
    {
      "cell_type": "markdown",
      "source": [
        "###6. What are the three “mode” arguments that can be passed to the open() function?\n",
        "\n",
        "Ans:  The string 'r' for read mode, 'w' for write mode, and 'a' for append mode"
      ],
      "metadata": {
        "id": "BB4Rghs3hDCy"
      }
    },
    {
      "cell_type": "markdown",
      "source": [
        "###7. What happens if an existing file is opened in write mode?\n",
        "\n",
        "Ans:if we try to open existing file in write(\"w\") mode all the existing content in file are deleted and completely overwritten."
      ],
      "metadata": {
        "id": "IN535qiEjNnN"
      }
    },
    {
      "cell_type": "markdown",
      "source": [
        "###8. How do you tell the difference between read() and readlines()?\n",
        "\n",
        "Ans: The read() method returns the file's entire contents as a single string value. The readlines() method returns a list of strings, where each string is a line from the file's contents."
      ],
      "metadata": {
        "id": "g-vnGcB6kYZR"
      }
    },
    {
      "cell_type": "markdown",
      "source": [
        "###9. What data structure does a shelf value resemble?\n",
        "\n",
        "A shelf value resembles a dictionary value; it has keys and values, along with keys() and values() methods that work similarly to the dictionary methods of the same names."
      ],
      "metadata": {
        "id": "hx44aHaFlVxL"
      }
    }
  ]
}