{
  "nbformat": 4,
  "nbformat_minor": 0,
  "metadata": {
    "colab": {
      "provenance": []
    },
    "kernelspec": {
      "name": "python3",
      "display_name": "Python 3"
    },
    "language_info": {
      "name": "python"
    }
  },
  "cells": [
    {
      "cell_type": "markdown",
      "source": [
        "###1. What is the name of the feature responsible for generating Regex objects?\n",
        "\n",
        "Ans:The re.compile() function returns Regex objects.\n",
        "\n",
        "ans: regex is used to regular expression and it is used to find the pattern in text or any kind if document and this is wildly used where we find any specific data from document means data extraction"
      ],
      "metadata": {
        "id": "Iuqil_QipO9N"
      }
    },
    {
      "cell_type": "code",
      "execution_count": 2,
      "metadata": {
        "id": "O25SOXZ_pGBt",
        "colab": {
          "base_uri": "https://localhost:8080/"
        },
        "outputId": "f0badf1c-c38f-40fd-d02e-9cd8a5f78580"
      },
      "outputs": [
        {
          "output_type": "stream",
          "name": "stdout",
          "text": [
            "<class 're.Pattern'>\n"
          ]
        }
      ],
      "source": [
        "# code example \n",
        "import re \n",
        "str1=\"my name is Ashish And my phone no. is 859 111 9331\"\n",
        "str_pattern=r\"\\d{3,4}\"\n",
        "reg_pattern=re.compile(str_pattern)\n",
        "print(type(reg_pattern))\n",
        "\n"
      ]
    },
    {
      "cell_type": "code",
      "source": [
        "res=reg_pattern.findall(str1)\n",
        "print(res)"
      ],
      "metadata": {
        "colab": {
          "base_uri": "https://localhost:8080/"
        },
        "id": "In16pWY2NLJs",
        "outputId": "1dff9c5f-57f6-4c8c-ce1c-baefc12c751e"
      },
      "execution_count": 3,
      "outputs": [
        {
          "output_type": "stream",
          "name": "stdout",
          "text": [
            "['859', '111', '9331']\n"
          ]
        }
      ]
    },
    {
      "cell_type": "markdown",
      "source": [
        "### 2. Why do raw strings often appear in Regex objects?\n",
        "\n",
        "Ans:Raw strings are used so that backslashes do not have to be escaped."
      ],
      "metadata": {
        "id": "AdyAfcrXNZCM"
      }
    },
    {
      "cell_type": "markdown",
      "source": [
        "###3. What is the return value of the search() method?\n",
        "\n",
        "The search() method returns Match objects.\n",
        "\n",
        "re.search() method either returns None (if the pattern doesn’t match), or a re.MatchObject that contains information about the matching part of the string"
      ],
      "metadata": {
        "id": "2pcWX36AOyjf"
      }
    },
    {
      "cell_type": "markdown",
      "source": [
        "###4. From a Match item, how do you get the actual strings that match the pattern?\n",
        "\n",
        "Ans: The group() method returns strings of the matched text."
      ],
      "metadata": {
        "id": "OJ9MZYxJR9IJ"
      }
    },
    {
      "cell_type": "markdown",
      "source": [
        "###5. In the regex which created from the r'(\\d\\d\\d)-(\\d\\d\\d-\\d\\d\\d\\d)', what does group zero cover? Group 2? Group 1?\n",
        "\n",
        "ans: Group 0 is the entire match, group 1 covers the first set of parentheses, and group 2 covers the second set of parentheses."
      ],
      "metadata": {
        "id": "IZDi9aTgTYH5"
      }
    },
    {
      "cell_type": "markdown",
      "source": [
        "###6. In standard expression syntax, parentheses and intervals have distinct meanings. How can you tell\n",
        "a regex that you want it to fit real parentheses and periods?\n",
        "\n",
        "ans:we can escaped with a backslash : \\., \\(, and \\)."
      ],
      "metadata": {
        "id": "hjicL083WZjs"
      }
    },
    {
      "cell_type": "markdown",
      "source": [
        "###7. The findall() method returns a string list or a list of string tuples. What causes it to return one of the two options?\n",
        "\n",
        "If the regex has no groups, a list of strings is returned. If the regex has groups, a list of tuples of strings is returned.\n",
        "\n",
        "in the below example code we can see the groups contains 2 reg expression 1st find the capital letters and 2nd find the no. and the result we can see in tuples so we can say if regex has groups  a list of tuples of string are return. "
      ],
      "metadata": {
        "id": "KxzOui8gWaw6"
      }
    },
    {
      "cell_type": "code",
      "source": [
        "import re\n",
        "\n",
        "target_string = \"The name of city is CHANDIGARH and my house no. is 770\"\n",
        "\n",
        "# two groups enclosed in separate ( and ) bracket\n",
        "result = re.search(r\"(\\b[A-Z]+\\b).+(\\b\\d+)\", target_string)\n",
        "\n",
        "# Extract matching values of all groups\n",
        "print(result.groups())\n",
        "\n",
        "# Extract match value of group 1\n",
        "print(result.group(1))\n",
        "\n",
        "\n",
        "# Extract match value of group 2\n",
        "print(result.group(2))\n",
        "\n"
      ],
      "metadata": {
        "id": "PeYLr3hGNYDs",
        "colab": {
          "base_uri": "https://localhost:8080/"
        },
        "outputId": "bcaf2e28-9b36-4b3f-d13e-da6964f96228"
      },
      "execution_count": 4,
      "outputs": [
        {
          "output_type": "stream",
          "name": "stdout",
          "text": [
            "('CHANDIGARH', '770')\n",
            "CHANDIGARH\n",
            "770\n"
          ]
        }
      ]
    },
    {
      "cell_type": "markdown",
      "source": [
        "###8. In standard expressions, what does the | character mean?\n",
        "\n",
        "Ans:\n",
        "The | character says matching \"either, or\" between two groups."
      ],
      "metadata": {
        "id": "f0V4Okq9rwen"
      }
    },
    {
      "cell_type": "code",
      "source": [
        "import re\n",
        "\n",
        "txt = \"The rain in Spain falls mainly in the plain!\"\n",
        "\n",
        "#Check if the string contains either \"falls\" or \"stays\":\n",
        "\n",
        "x = re.findall(\"falls|stays\", txt)\n",
        "\n",
        "print(x)\n",
        "\n",
        "if x:\n",
        "  print(\"Yes, there is at least one match!\")\n",
        "else:\n",
        "  print(\"No match\")\n"
      ],
      "metadata": {
        "colab": {
          "base_uri": "https://localhost:8080/"
        },
        "id": "sTQnHwq8s8qN",
        "outputId": "900ce82a-8aeb-4f3b-8bae-34bb8c2598bd"
      },
      "execution_count": 5,
      "outputs": [
        {
          "output_type": "stream",
          "name": "stdout",
          "text": [
            "['falls']\n",
            "Yes, there is at least one match!\n"
          ]
        }
      ]
    },
    {
      "cell_type": "markdown",
      "source": [
        "###9. In regular expressions, what does the character stand for?\n",
        "\n",
        "Each character in a regular expression (that is, each character in the string describing its pattern) is either a metacharacter, having a special meaning, or a regular character that has a literal meaning. "
      ],
      "metadata": {
        "id": "zY-XhmNLtExS"
      }
    },
    {
      "cell_type": "markdown",
      "source": [
        "###10.In regular expressions, what is the difference between the + and * characters?\n",
        "\n",
        "ans: + means the probability of occurrences is one or more \n",
        "\n",
        "and the * means  probability of occurrences is zero or more "
      ],
      "metadata": {
        "id": "1_T3XwonuGJl"
      }
    },
    {
      "cell_type": "markdown",
      "source": [
        "###11. What is the difference between {4} and {4,5} in regular expression?\n",
        "\n",
        "Ans: this {4}means occurrances of expression is 4 character long \n",
        "\n",
        "and {4,5}  means occurrances of pattern  is 4 and 5 character long\n",
        "\n",
        "basically can say group expression \n",
        "\n"
      ],
      "metadata": {
        "id": "OfK2BhzwuouZ"
      }
    },
    {
      "cell_type": "markdown",
      "source": [
        "###12. What do you mean by the \\d, \\w, and \\s shorthand character classes signify in regular\n",
        "expressions?\n",
        "\n",
        "ans:\\d means Returns a match where the string contains digits (numbers from 0-9)\n",
        "\n",
        "\\w means Returns a match where the string contains any word characters (characters from a to Z, digits from 0-9, and the underscore _ character)\n",
        "\n",
        "\\s Returns a match where the string contains a white space character"
      ],
      "metadata": {
        "id": "3t9XXGyCvVoP"
      }
    },
    {
      "cell_type": "code",
      "source": [
        "import re\n",
        "\n",
        "txt = \"this is a data science course rupees 16000\"\n",
        "\n",
        "#Check if the string contains any digits (numbers from 0-9):\n",
        "\n",
        "x = re.findall(\"\\w\", txt)\n",
        "x1 = re.findall(\"\\d\", txt)\n",
        "x2 = re.findall(\"\\w\", txt)\n",
        "\n",
        "print(x)\n",
        "\n",
        "if x:\n",
        "  print(\"Yes, there is at least one match!\")\n",
        "else:\n",
        "  print(\"No match\")\n"
      ],
      "metadata": {
        "colab": {
          "base_uri": "https://localhost:8080/"
        },
        "id": "5Nq4zrKvv4m_",
        "outputId": "866f3a5b-d54c-4b4d-9e84-7ce73734618c"
      },
      "execution_count": 6,
      "outputs": [
        {
          "output_type": "stream",
          "name": "stdout",
          "text": [
            "['t', 'h', 'i', 's', 'i', 's', 'a', 'd', 'a', 't', 'a', 's', 'c', 'i', 'e', 'n', 'c', 'e', 'c', 'o', 'u', 'r', 's', 'e', 'r', 'u', 'p', 'e', 'e', 's', '1', '6', '0', '0', '0']\n",
            "Yes, there is at least one match!\n"
          ]
        }
      ]
    },
    {
      "cell_type": "markdown",
      "source": [
        "###13. What do means by \\D, \\W, and \\S shorthand character classes signify in regular expressions?\n",
        "\n",
        "Ans:\\D >>Returns a match where the string DOES NOT contain digits\n",
        "\n",
        "\\W >> Returns a match where the string DOES NOT contain any word characters\n",
        "\n",
        "\\S>>Returns a match where the string DOES NOT contain a white space character\t"
      ],
      "metadata": {
        "id": "C95m19n7wt1v"
      }
    },
    {
      "cell_type": "markdown",
      "source": [
        "###14. What is the difference between .*? and .*?\n",
        "\n",
        "Ans:(.*?) matches any character (.) any number of times (*), as few times as possible to make the regex match (?). You'll get a match on any string, but you'll only capture a blank string because of the question mark. This feature is much more useful when you have a more complicated regex.\n",
        "\n",
        "(.*)? captures a group zero or one times (?). That group consists of a run of any length (*) of any character (.). This also will match anything, but it will capture the first line, since the dot matches anything except a newline."
      ],
      "metadata": {
        "id": "ULx_syqm2pqQ"
      }
    },
    {
      "cell_type": "markdown",
      "source": [
        "###15. What is the syntax for matching both numbers and lowercase letters with a character class?\n",
        "\n",
        "[a-zA-Z0-9]"
      ],
      "metadata": {
        "id": "rGmhqG-c5zD9"
      }
    },
    {
      "cell_type": "markdown",
      "source": [
        "###16. What is the procedure for making a normal expression in regax case insensitive?\n",
        "\n",
        "Ans: We can pass re.IGNORECASE"
      ],
      "metadata": {
        "id": "rcbkzUay6oC6"
      }
    },
    {
      "cell_type": "code",
      "source": [
        "import re\n",
        "print (re.search('bush', 'BuSh', re.IGNORECASE))\n",
        "print (re.match('bush', 'BuSh', re.IGNORECASE))\n",
        "print (re.sub('bush', 'xxxx', 'Bushmeat', flags=re.IGNORECASE))\n"
      ],
      "metadata": {
        "colab": {
          "base_uri": "https://localhost:8080/"
        },
        "id": "Km1KDqbP5v5C",
        "outputId": "2fff227f-108d-493a-e227-796d0b5665fd"
      },
      "execution_count": 7,
      "outputs": [
        {
          "output_type": "stream",
          "name": "stdout",
          "text": [
            "<re.Match object; span=(0, 4), match='BuSh'>\n",
            "<re.Match object; span=(0, 4), match='BuSh'>\n",
            "xxxxmeat\n"
          ]
        }
      ]
    },
    {
      "cell_type": "markdown",
      "source": [
        "###17. What does the . character normally match? What does it match if re.DOTALL is passed as 2nd\n",
        "argument in re.compile()?\n",
        "\n",
        "ans: \tThe period . (or dot) character in regex is called a wildcard because it matches any character except for a newline.\n",
        "By using re.DOTALL flag, We can modify the behavior of dot (.) character to match the newline character apart from other characters. \n"
      ],
      "metadata": {
        "id": "qHJaVgMl8JVN"
      }
    },
    {
      "cell_type": "code",
      "source": [
        "import re\n",
        "atRegex = re.compile(r'.at') # returns anything with ‘at’ followed after\n",
        "\n",
        "atRegex.findall('The cat in the hat sat on the flat mat')\n"
      ],
      "metadata": {
        "colab": {
          "base_uri": "https://localhost:8080/"
        },
        "id": "XFgZPwcu8K5y",
        "outputId": "35f0dc70-6f6f-48fd-d760-60a1a3adc28d"
      },
      "execution_count": 8,
      "outputs": [
        {
          "output_type": "execute_result",
          "data": {
            "text/plain": [
              "['cat', 'hat', 'sat', 'lat', 'mat']"
            ]
          },
          "metadata": {},
          "execution_count": 8
        }
      ]
    },
    {
      "cell_type": "code",
      "source": [
        "atRegex1 = re.compile(r'.at',re.DOTALL)\n",
        "atRegex.findall('The cat in the hat sat on the flat mat')\n"
      ],
      "metadata": {
        "colab": {
          "base_uri": "https://localhost:8080/"
        },
        "id": "yOdfqVMt9COU",
        "outputId": "9d1616d2-f94b-4b7c-d0b1-71051707bda5"
      },
      "execution_count": 9,
      "outputs": [
        {
          "output_type": "execute_result",
          "data": {
            "text/plain": [
              "['cat', 'hat', 'sat', 'lat', 'mat']"
            ]
          },
          "metadata": {},
          "execution_count": 9
        }
      ]
    },
    {
      "cell_type": "markdown",
      "source": [
        "###18. If numReg = re.compile(r'\\d+'), what will numRegex.sub('X','11 drummers, \n",
        "10 pipers, five rings, 4 hen') return?\n",
        "\n",
        "ans:\n"
      ],
      "metadata": {
        "id": "ZWOW7LBbA3W4"
      }
    },
    {
      "cell_type": "code",
      "source": [
        "numReg = re.compile(r'\\d+')\n",
        "numReg.sub('X','11 drummers,  10 pipers, five rings, 4 hen')"
      ],
      "metadata": {
        "colab": {
          "base_uri": "https://localhost:8080/",
          "height": 36
        },
        "id": "HGqc99QLDDiW",
        "outputId": "3e99b9a5-0f17-4ae3-9507-ed690fda0be7"
      },
      "execution_count": 10,
      "outputs": [
        {
          "output_type": "execute_result",
          "data": {
            "text/plain": [
              "'X drummers,  X pipers, five rings, X hen'"
            ],
            "application/vnd.google.colaboratory.intrinsic+json": {
              "type": "string"
            }
          },
          "metadata": {},
          "execution_count": 10
        }
      ]
    },
    {
      "cell_type": "markdown",
      "source": [
        "###19. What does passing re.VERBOSE as the 2nd argument to re.compile() allow to do?\n",
        "\n",
        "\n",
        "ANS:: This flag allows you to write regular expressions that look nicer and are more readable by allowing you to visually separate logical sections of the pattern and add comments.\n",
        "\n",
        "\n"
      ],
      "metadata": {
        "id": "8MFcNWZKD2NY"
      }
    },
    {
      "cell_type": "code",
      "source": [
        "import re \n",
        "def val_email(email):\n",
        "  reg_email=re.compile(r\"\"\" ^([a-z0-9_\\.-]+)  \n",
        "            @\n",
        "            ([0-9a-z\\.-]+)\n",
        "            \\.\n",
        "            ([a-z]{2,6})$\"\"\", re.VERBOSE | re.IGNORECASE)\n",
        "  res=reg_email.fullmatch(email)\n",
        "  if res:\n",
        "    print(\"{} is valid. Detals are as follow:\".format(email))\n",
        "    print(\"Domain:{}\".format(res.group(1)))\n",
        "    print(\"Domain:{}\".format(res.group(2)))\n",
        "    print(\"Top Level domain:{}\".format(res.group(3)))\n",
        "  else:\n",
        "        #If match is not found,string is invalid\n",
        "        print(\"{} is Invalid\".format(email))\n",
        "\n",
        "# Driver Code\n",
        "val_email(\"ineurons@yahoo.com@\")\n",
        "val_email(\"Mr.mauryaa@gmail.com\")\n",
        "val_email(\"sysadmin@.com\")"
      ],
      "metadata": {
        "colab": {
          "base_uri": "https://localhost:8080/"
        },
        "id": "Cu0b0ueVFylm",
        "outputId": "448a360d-2727-4120-f843-2df077d1c1f6"
      },
      "execution_count": 11,
      "outputs": [
        {
          "output_type": "stream",
          "name": "stdout",
          "text": [
            "ineurons@yahoo.com@ is Invalid\n",
            "Mr.mauryaa@gmail.com is valid. Detals are as follow:\n",
            "Domain:Mr.mauryaa\n",
            "Domain:gmail\n",
            "Top Level domain:com\n",
            "sysadmin@.com is Invalid\n"
          ]
        }
      ]
    },
    {
      "cell_type": "markdown",
      "source": [
        "###22. How would you write a regex that matches a sentence where the first word is either Alice, Bob,or Carol; the second word is either eats, pets, or throws; the third word is apples, cats, or baseballs;and the sentence ends with a period? This regex should be case-insensitive. It must match the\n",
        "following:\n",
        "'Alice eats apples.'\n",
        "\n",
        "'Bob pets cats.'\n",
        "\n",
        "'Carol throws baseballs.'\n",
        "\n",
        "'Alice throws Apples.'\n",
        "\n",
        "'BOB EATS CATS.'\n",
        "\n",
        "but not the following:\n",
        "'RoboCop eats apples.'\n",
        "\n",
        "'ALICE THROWS FOOTBALLS.'\n",
        "\n",
        "'Carol eats 7 cats'"
      ],
      "metadata": {
        "id": "UZs60pYdKsaq"
      }
    },
    {
      "cell_type": "code",
      "source": [
        "import re\n",
        "mystr='Alice eats apples, Bob pets cats, Carol throws baseballs, Alice throws Apples BOB EATS CATS, RoboCop eats apples,ALICE THROWS FOOTBALLS Carol eats 7 cats'\n",
        "\n",
        "reg=re.compile(r'(Alice|Bob|Carol)\\s(eats|pets|throws)\\ s(apples|cats|baseballs)\\.', re.IGNORECASE)\n",
        "reg.findall(mystr)\n"
      ],
      "metadata": {
        "colab": {
          "base_uri": "https://localhost:8080/"
        },
        "id": "R8Wemv1pLdZ_",
        "outputId": "6872f3de-54ef-4804-921b-77d613336cb0"
      },
      "execution_count": 12,
      "outputs": [
        {
          "output_type": "execute_result",
          "data": {
            "text/plain": [
              "[]"
            ]
          },
          "metadata": {},
          "execution_count": 12
        }
      ]
    }
  ]
}