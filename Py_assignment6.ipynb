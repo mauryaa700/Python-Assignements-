{
  "nbformat": 4,
  "nbformat_minor": 0,
  "metadata": {
    "colab": {
      "name": "Py_assignment6.ipynb",
      "provenance": []
    },
    "kernelspec": {
      "name": "python3",
      "display_name": "Python 3"
    },
    "language_info": {
      "name": "python"
    }
  },
  "cells": [
    {
      "cell_type": "markdown",
      "source": [
        "### 1. What are escape characters, and how do you use them?\n",
        "ans: An escape sequence is a sequence of characters that, when used inside a character or string, does not represent itself but is converted into another character or series of characters that may be difficult or impossible to express directly in print like newline (\\n), tab (\\t), and so on."
      ],
      "metadata": {
        "id": "o2SefecL8jgw"
      }
    },
    {
      "cell_type": "code",
      "source": [
        "print('Who's this?')  # this will  throw error "
      ],
      "metadata": {
        "colab": {
          "base_uri": "https://localhost:8080/",
          "height": 130
        },
        "id": "dw9m7FQJDXvo",
        "outputId": "cdea57e1-9ae9-44d7-d4d7-4330d1fe0946"
      },
      "execution_count": 6,
      "outputs": [
        {
          "output_type": "error",
          "ename": "SyntaxError",
          "evalue": "ignored",
          "traceback": [
            "\u001b[0;36m  File \u001b[0;32m\"<ipython-input-6-9e8d69ebd881>\"\u001b[0;36m, line \u001b[0;32m1\u001b[0m\n\u001b[0;31m    print('Who's this?')\u001b[0m\n\u001b[0m               ^\u001b[0m\n\u001b[0;31mSyntaxError\u001b[0m\u001b[0;31m:\u001b[0m invalid syntax\n"
          ]
        }
      ]
    },
    {
      "cell_type": "code",
      "source": [
        "# here we use \\ between who and s as a escape characker \n",
        "print('Who\\'s this?')"
      ],
      "metadata": {
        "colab": {
          "base_uri": "https://localhost:8080/"
        },
        "id": "3hlp2SwEDgoT",
        "outputId": "a64e7376-dd58-4660-8dd1-4274dc7544b8"
      },
      "execution_count": 9,
      "outputs": [
        {
          "output_type": "stream",
          "name": "stdout",
          "text": [
            "Who's this?\n"
          ]
        }
      ]
    },
    {
      "cell_type": "code",
      "execution_count": 5,
      "metadata": {
        "id": "Kraijk398Q5U",
        "colab": {
          "base_uri": "https://localhost:8080/"
        },
        "outputId": "d6bdc657-3f74-4f36-b0b9-536e502b756c"
      },
      "outputs": [
        {
          "output_type": "stream",
          "name": "stdout",
          "text": [
            "he is a Good \n",
            " Boy \t In school\n"
          ]
        }
      ],
      "source": [
        "print(\"he is a Good \\n Boy \\t In school\")"
      ]
    },
    {
      "cell_type": "markdown",
      "source": [
        "###2. What do the escape characters n and t stand for?\n",
        "ans: \n",
        "    \n",
        "    \\n \n",
        "    this is new line character used for provide next line\n",
        "\n",
        "    \\t >> this escape tab character used to add tab space in statement "
      ],
      "metadata": {
        "id": "z1uBJEJEEAs-"
      }
    },
    {
      "cell_type": "code",
      "source": [
        "print(\"he is a Good \\n Boy\")\n",
        "print(\"The correct ans is \\n \\t Ineuron\")"
      ],
      "metadata": {
        "colab": {
          "base_uri": "https://localhost:8080/"
        },
        "id": "oltCl9oVEu5i",
        "outputId": "d2dd1875-d7b0-43f0-b1f5-df4cae73cded"
      },
      "execution_count": 10,
      "outputs": [
        {
          "output_type": "stream",
          "name": "stdout",
          "text": [
            "he is a Good \n",
            " Boy\n",
            "The correct ans is \n",
            " \t Ineuron\n"
          ]
        }
      ]
    },
    {
      "cell_type": "markdown",
      "source": [
        "###3. What is the way to include backslash characters in a string?"
      ],
      "metadata": {
        "id": "iy8CSKh5FKnV"
      }
    },
    {
      "cell_type": "code",
      "source": [
        "print('Hello,\\n World')"
      ],
      "metadata": {
        "colab": {
          "base_uri": "https://localhost:8080/"
        },
        "id": "xfQYlFUqFgje",
        "outputId": "71839fd6-01a9-4430-ce6d-2792eb608ba2"
      },
      "execution_count": 11,
      "outputs": [
        {
          "output_type": "stream",
          "name": "stdout",
          "text": [
            "Hello,\n",
            " World\n"
          ]
        }
      ]
    },
    {
      "cell_type": "markdown",
      "source": [
        "###4. The string How's Moving Castle' is a correct value. Why isn't the single quote character in the word How's not escaped a problem?\n",
        "\n",
        "Ans:  The single quote in Howl's is correct because we can use double quotes to mark the start and end of the string."
      ],
      "metadata": {
        "id": "e_dYWHDlFi6v"
      }
    },
    {
      "cell_type": "code",
      "source": [
        "print(\"How's Moving Castle'\")"
      ],
      "metadata": {
        "colab": {
          "base_uri": "https://localhost:8080/"
        },
        "id": "8RyeR3BhoJ8R",
        "outputId": "b655999c-6117-4761-d5a9-d64218f689f7"
      },
      "execution_count": 45,
      "outputs": [
        {
          "output_type": "stream",
          "name": "stdout",
          "text": [
            "How's Moving Castle'\n"
          ]
        }
      ]
    },
    {
      "cell_type": "markdown",
      "source": [
        "###5. How do you write a string of newlines if you don't want to use the n character?\n",
        "ans: Multiline strings allow you to use newlines in strings without the \\n escape character."
      ],
      "metadata": {
        "id": "RtkyfoPFVoLa"
      }
    },
    {
      "cell_type": "code",
      "source": [
        "print(\"Hi \", \"Good morning\")"
      ],
      "metadata": {
        "colab": {
          "base_uri": "https://localhost:8080/"
        },
        "id": "uT_vA7GcWGpC",
        "outputId": "cbb41b58-998c-47cc-e5a3-78c7cc9db2b0"
      },
      "execution_count": 46,
      "outputs": [
        {
          "output_type": "stream",
          "name": "stdout",
          "text": [
            "Hi  Good morning\n"
          ]
        }
      ]
    },
    {
      "cell_type": "markdown",
      "source": [
        "###6. What are the values of the given expressions?\n",
        "\n",
        "    'hello, world!'[1]\n",
        "    'hello, world!'[0.5]\n",
        "    'hello, world!'[:5]\n",
        "    'hello, world!'[3:]"
      ],
      "metadata": {
        "id": "OKWqL7U4YyNS"
      }
    },
    {
      "cell_type": "code",
      "source": [
        "print('hello, world!'[1])\n",
        "\n",
        "print('hello, world!'[0:5])"
      ],
      "metadata": {
        "colab": {
          "base_uri": "https://localhost:8080/"
        },
        "id": "j1ZkEGWsZO0d",
        "outputId": "fbba3953-4bf1-4105-e7b4-8f3f55e119df"
      },
      "execution_count": 15,
      "outputs": [
        {
          "output_type": "stream",
          "name": "stdout",
          "text": [
            "e\n",
            "hello\n"
          ]
        }
      ]
    },
    {
      "cell_type": "code",
      "source": [
        "print('hello, world!'[:5])"
      ],
      "metadata": {
        "colab": {
          "base_uri": "https://localhost:8080/"
        },
        "id": "p6-wzi7MZrPm",
        "outputId": "7bf3b220-a166-40e8-e57a-67dba17642b8"
      },
      "execution_count": 14,
      "outputs": [
        {
          "output_type": "stream",
          "name": "stdout",
          "text": [
            "hello\n"
          ]
        }
      ]
    },
    {
      "cell_type": "code",
      "source": [
        "print('hello, world!'[3:])"
      ],
      "metadata": {
        "colab": {
          "base_uri": "https://localhost:8080/"
        },
        "id": "URXP8I03ZwyC",
        "outputId": "87ff1f6b-a0c3-496a-a9fc-3482df4b6e9b"
      },
      "execution_count": 13,
      "outputs": [
        {
          "output_type": "stream",
          "name": "stdout",
          "text": [
            "lo, world!\n"
          ]
        }
      ]
    },
    {
      "cell_type": "markdown",
      "source": [
        "7. What are the values of the following expressions?\n",
        "\n",
        "\n",
        "    'hello'.upper()\n",
        "    'hello'.upper().isupper()\n",
        "    'hello'.upper().lower()\n",
        "    "
      ],
      "metadata": {
        "id": "weBJEeIhaF8R"
      }
    },
    {
      "cell_type": "code",
      "source": [
        "'hello'.upper()"
      ],
      "metadata": {
        "colab": {
          "base_uri": "https://localhost:8080/",
          "height": 36
        },
        "id": "zxgdGdjSartz",
        "outputId": "fc80d9d4-2058-4c5d-a734-d4cc2bdd1155"
      },
      "execution_count": 17,
      "outputs": [
        {
          "output_type": "execute_result",
          "data": {
            "text/plain": [
              "'HELLO'"
            ],
            "application/vnd.google.colaboratory.intrinsic+json": {
              "type": "string"
            }
          },
          "metadata": {},
          "execution_count": 17
        }
      ]
    },
    {
      "cell_type": "code",
      "source": [
        "'hello'.upper().isupper()"
      ],
      "metadata": {
        "colab": {
          "base_uri": "https://localhost:8080/"
        },
        "id": "bQYrz2lqa99w",
        "outputId": "1e7d3bc7-9c6d-4774-933d-14ebd7ca5bf1"
      },
      "execution_count": 18,
      "outputs": [
        {
          "output_type": "execute_result",
          "data": {
            "text/plain": [
              "True"
            ]
          },
          "metadata": {},
          "execution_count": 18
        }
      ]
    },
    {
      "cell_type": "code",
      "source": [
        "'hello'.upper().lower()"
      ],
      "metadata": {
        "colab": {
          "base_uri": "https://localhost:8080/",
          "height": 36
        },
        "id": "iQYs4bHJbBqZ",
        "outputId": "04f58dee-6631-4e35-f4e5-a23c52d80142"
      },
      "execution_count": 19,
      "outputs": [
        {
          "output_type": "execute_result",
          "data": {
            "text/plain": [
              "'hello'"
            ],
            "application/vnd.google.colaboratory.intrinsic+json": {
              "type": "string"
            }
          },
          "metadata": {},
          "execution_count": 19
        }
      ]
    },
    {
      "cell_type": "markdown",
      "source": [
        "###8. What are the values of the following expressions?\n",
        "Ans: \n",
        "\n",
        "    'Remember, remember, the fifth of July.'.split()\n",
        "    '-'.join('There can only one.'.split())"
      ],
      "metadata": {
        "id": "BzHjRV8dbGVU"
      }
    },
    {
      "cell_type": "code",
      "source": [
        "'Remember, remember, the fifth of July.'.split()"
      ],
      "metadata": {
        "colab": {
          "base_uri": "https://localhost:8080/"
        },
        "id": "Wzv3_FmUahpM",
        "outputId": "38181ca1-47ab-4577-aadc-52ec7aa05822"
      },
      "execution_count": 20,
      "outputs": [
        {
          "output_type": "execute_result",
          "data": {
            "text/plain": [
              "['Remember,', 'remember,', 'the', 'fifth', 'of', 'July.']"
            ]
          },
          "metadata": {},
          "execution_count": 20
        }
      ]
    },
    {
      "cell_type": "code",
      "source": [
        "'-'.join('There can only one.'.split())"
      ],
      "metadata": {
        "colab": {
          "base_uri": "https://localhost:8080/",
          "height": 36
        },
        "id": "ns6qbvfzcGCh",
        "outputId": "4806551e-0227-4b8a-a23a-bf66489da488"
      },
      "execution_count": 21,
      "outputs": [
        {
          "output_type": "execute_result",
          "data": {
            "text/plain": [
              "'There-can-only-one.'"
            ],
            "application/vnd.google.colaboratory.intrinsic+json": {
              "type": "string"
            }
          },
          "metadata": {},
          "execution_count": 21
        }
      ]
    },
    {
      "cell_type": "markdown",
      "source": [
        "###9. What are the methods for right-justifying, left-justifying, and centering a string?\n",
        "\n",
        "Ans: \n",
        "\n",
        "1. Center aligns the string according to width specified and fills remainign space with blank spaces \n",
        "\n",
        "    center(len, fillch(optional)\n",
        "\n",
        "2. ljust() : This function left aligns the string according to the width specified and fills remaining space of line with blank space if ‘ fillchr ‘ argument is not passed.\n",
        "\n",
        "    ljust(len, fillchr)\n",
        "3.rjust(): This function right aligns the string according to the width specified and fills remaining space of line with blank space if ‘ fillchr ‘ argument is not passed.\n",
        "\n",
        "    rjust( len, fillchr )"
      ],
      "metadata": {
        "id": "ND794UM5f9tT"
      }
    },
    {
      "cell_type": "code",
      "source": [
        "\n",
        "#example of ljust(len, fillchr)\n",
        "Greeting=\"Hi Ashish, Good morning\"\n",
        "Greeting.ljust(40 , \"#\")"
      ],
      "metadata": {
        "colab": {
          "base_uri": "https://localhost:8080/",
          "height": 36
        },
        "id": "obd3vuD1j2I1",
        "outputId": "d1c93521-9257-4f6e-e6fb-6c193e9a7d4d"
      },
      "execution_count": 31,
      "outputs": [
        {
          "output_type": "execute_result",
          "data": {
            "text/plain": [
              "'Hi Ashish, Good morning#################'"
            ],
            "application/vnd.google.colaboratory.intrinsic+json": {
              "type": "string"
            }
          },
          "metadata": {},
          "execution_count": 31
        }
      ]
    },
    {
      "cell_type": "code",
      "source": [
        "\n",
        "#example of center() \n",
        "Greeting=\"Hi Ashish, Good morning\"\n",
        "Greeting.center(40, \"*\")"
      ],
      "metadata": {
        "colab": {
          "base_uri": "https://localhost:8080/",
          "height": 36
        },
        "id": "x_APxphblVmW",
        "outputId": "56810b9b-bf1a-49a9-9ac6-8dd30c8ddc13"
      },
      "execution_count": 29,
      "outputs": [
        {
          "output_type": "execute_result",
          "data": {
            "text/plain": [
              "'********Hi Ashish, Good morning*********'"
            ],
            "application/vnd.google.colaboratory.intrinsic+json": {
              "type": "string"
            }
          },
          "metadata": {},
          "execution_count": 29
        }
      ]
    },
    {
      "cell_type": "code",
      "source": [
        "\n",
        "#example of rjust( len, fillchr ) \n",
        "Greeting=\"Hi Ashish, Good morning\"\n",
        "Greeting.rjust(40, \"*\")"
      ],
      "metadata": {
        "colab": {
          "base_uri": "https://localhost:8080/",
          "height": 36
        },
        "id": "FrO8d2r_mRCa",
        "outputId": "f09ed2c9-2350-4e49-f46c-211e187c0691"
      },
      "execution_count": 32,
      "outputs": [
        {
          "output_type": "execute_result",
          "data": {
            "text/plain": [
              "'*****************Hi Ashish, Good morning'"
            ],
            "application/vnd.google.colaboratory.intrinsic+json": {
              "type": "string"
            }
          },
          "metadata": {},
          "execution_count": 32
        }
      ]
    },
    {
      "cell_type": "markdown",
      "source": [
        "###10. What is the best way to remove whitespace characters from the start or end?\n",
        "Ans:\n",
        "\n",
        "1. first best way of remove white spaces we can use lstrip and rstrip() fuctions\n",
        "\n",
        "2. Using split() and join() First we use split() function to return a list of the words in the string, using sep as the delimiter string. Then, we use join() to concatenate the iterable. :"
      ],
      "metadata": {
        "id": "6kyv53YcmbIt"
      }
    },
    {
      "cell_type": "code",
      "source": [
        "a=\"       ashish          \"\n",
        "print(a.lstrip())\n",
        "print(a.rstrip())"
      ],
      "metadata": {
        "colab": {
          "base_uri": "https://localhost:8080/"
        },
        "id": "tgwJv2qwqw06",
        "outputId": "6fd0586f-c804-4f2e-e728-564b2960bff4"
      },
      "execution_count": 52,
      "outputs": [
        {
          "output_type": "stream",
          "name": "stdout",
          "text": [
            "ashish          \n",
            "       ashish\n"
          ]
        }
      ]
    },
    {
      "cell_type": "code",
      "source": [
        "a=\"              ashish\"\n",
        "''.join(a.split())"
      ],
      "metadata": {
        "colab": {
          "base_uri": "https://localhost:8080/",
          "height": 36
        },
        "id": "gPY-7d2Dm7K8",
        "outputId": "e9c7f4ab-b500-4330-f0de-8d65f86d0510"
      },
      "execution_count": 47,
      "outputs": [
        {
          "output_type": "execute_result",
          "data": {
            "text/plain": [
              "'ashish'"
            ],
            "application/vnd.google.colaboratory.intrinsic+json": {
              "type": "string"
            }
          },
          "metadata": {},
          "execution_count": 47
        }
      ]
    }
  ]
}