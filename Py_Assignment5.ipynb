{
  "nbformat": 4,
  "nbformat_minor": 0,
  "metadata": {
    "colab": {
      "name": "Py_Assignment5.ipynb",
      "provenance": []
    },
    "kernelspec": {
      "name": "python3",
      "display_name": "Python 3"
    },
    "language_info": {
      "name": "python"
    }
  },
  "cells": [
    {
      "cell_type": "markdown",
      "source": [
        "###1. What does an empty dictionarys code look like?\n",
        "Ans: The dictnaries are key value pairs.the empty ditionaries look like below code \n",
        "\n",
        "    a={}\n",
        "    "
      ],
      "metadata": {
        "id": "yNUumS1Vg9GN"
      }
    },
    {
      "cell_type": "markdown",
      "source": [
        "###2. What is the value of a dictionary value with the key \"foo\" and the value 42?\n",
        "Ans:"
      ],
      "metadata": {
        "id": "yxH1B9UNh8mb"
      }
    },
    {
      "cell_type": "code",
      "source": [
        "dict1={\"foo\":42}\n",
        "dict1"
      ],
      "metadata": {
        "colab": {
          "base_uri": "https://localhost:8080/",
          "height": 0
        },
        "id": "b24hZCnJiNAU",
        "outputId": "2d973563-cfe1-4b93-e2d3-2fcab6168fbf"
      },
      "execution_count": 11,
      "outputs": [
        {
          "output_type": "execute_result",
          "data": {
            "text/plain": [
              "{'foo': 42}"
            ]
          },
          "metadata": {},
          "execution_count": 11
        }
      ]
    },
    {
      "cell_type": "markdown",
      "source": [
        "###3. What is the most significant distinction between a dictionary and a list?\n",
        "Ans: The Most significant distinguish btw both is list is order onther other hand dictionaries are unordered"
      ],
      "metadata": {
        "id": "Pmdl9Ag5iqYW"
      }
    },
    {
      "cell_type": "markdown",
      "source": [
        "###4. What happens if you try to access spam[\"foo\"] if spam is {\"bar\": 100}?\n",
        "Ans: we simply got error like below code."
      ],
      "metadata": {
        "id": "XKocTJ3KjEM4"
      }
    },
    {
      "cell_type": "code",
      "source": [
        "spam={\"bar\":100}\n",
        "spam[\"foo\"]"
      ],
      "metadata": {
        "colab": {
          "base_uri": "https://localhost:8080/",
          "height": 182
        },
        "id": "mA-YMGpgjXfv",
        "outputId": "e9ed85da-b8f0-42df-8eae-8599954d4792"
      },
      "execution_count": 14,
      "outputs": [
        {
          "output_type": "error",
          "ename": "KeyError",
          "evalue": "ignored",
          "traceback": [
            "\u001b[0;31m---------------------------------------------------------------------------\u001b[0m",
            "\u001b[0;31mKeyError\u001b[0m                                  Traceback (most recent call last)",
            "\u001b[0;32m<ipython-input-14-ba9f3e088574>\u001b[0m in \u001b[0;36m<module>\u001b[0;34m()\u001b[0m\n\u001b[1;32m      1\u001b[0m \u001b[0mspam\u001b[0m\u001b[0;34m=\u001b[0m\u001b[0;34m{\u001b[0m\u001b[0;34m\"bar\"\u001b[0m\u001b[0;34m:\u001b[0m\u001b[0;36m100\u001b[0m\u001b[0;34m}\u001b[0m\u001b[0;34m\u001b[0m\u001b[0;34m\u001b[0m\u001b[0m\n\u001b[0;32m----> 2\u001b[0;31m \u001b[0mspam\u001b[0m\u001b[0;34m[\u001b[0m\u001b[0;34m\"foo\"\u001b[0m\u001b[0;34m]\u001b[0m\u001b[0;34m\u001b[0m\u001b[0;34m\u001b[0m\u001b[0m\n\u001b[0m",
            "\u001b[0;31mKeyError\u001b[0m: 'foo'"
          ]
        }
      ]
    },
    {
      "cell_type": "markdown",
      "source": [
        "###5. If a dictionary is stored in spam, what is the difference between the expressions \"cat\" in spam and \"cat\" in spam.keys()?\n",
        "Ans: spam.keys() checks whether the keys are present or not and there is no differece between \"cat\" and spam.keys() both return same value "
      ],
      "metadata": {
        "id": "7vjSBamzjrue"
      }
    },
    {
      "cell_type": "code",
      "source": [
        "spam={\"cat\":\"billi\"}\n",
        "spam.keys()"
      ],
      "metadata": {
        "colab": {
          "base_uri": "https://localhost:8080/",
          "height": 0
        },
        "id": "gQ83MaCqkwZx",
        "outputId": "4e2b9bd1-4a23-451c-afc6-06641b11f611"
      },
      "execution_count": 19,
      "outputs": [
        {
          "output_type": "execute_result",
          "data": {
            "text/plain": [
              "dict_keys(['cat'])"
            ]
          },
          "metadata": {},
          "execution_count": 19
        }
      ]
    },
    {
      "cell_type": "markdown",
      "source": [
        "### 6. If a dictionary is stored in spam, what is the difference between the expressions \"cat\" in spam and \"cat\" in spam.values()?\n",
        "Ans: 'cat' in spam checks whether there is a 'cat' key in the dictionary, while 'cat' in spam.values() checks whether there is a value 'cat' for one of the keys in spam\n"
      ],
      "metadata": {
        "id": "h3UFr6y7lMLd"
      }
    },
    {
      "cell_type": "code",
      "execution_count": 21,
      "metadata": {
        "colab": {
          "base_uri": "https://localhost:8080/",
          "height": 0
        },
        "id": "kmlyMnq36nuf",
        "outputId": "84182fa5-4820-473a-8342-3947951994b4"
      },
      "outputs": [
        {
          "output_type": "execute_result",
          "data": {
            "text/plain": [
              "dict_values(['billi'])"
            ]
          },
          "metadata": {},
          "execution_count": 21
        }
      ],
      "source": [
        "spam.values()"
      ]
    },
    {
      "cell_type": "markdown",
      "source": [
        "###7. What is a shortcut for the following code?\n",
        "    if \"color\" not in spam:\n",
        "    spam[\"color\"] = \"black\"\n",
        "\n",
        "\n"
      ],
      "metadata": {
        "id": "k5Pta7QLmA73"
      }
    },
    {
      "cell_type": "code",
      "source": [
        "spam.setdefault('color','black')\n",
        "spam"
      ],
      "metadata": {
        "colab": {
          "base_uri": "https://localhost:8080/",
          "height": 0
        },
        "id": "09ILHd0Fmk1M",
        "outputId": "c266b729-92af-41fd-d906-3c32d5cff64f"
      },
      "execution_count": 22,
      "outputs": [
        {
          "output_type": "execute_result",
          "data": {
            "text/plain": [
              "{'cat': 'billi', 'color': 'black'}"
            ]
          },
          "metadata": {},
          "execution_count": 22
        }
      ]
    },
    {
      "cell_type": "markdown",
      "source": [
        "###8. How do you \"pretty print\" dictionary values using which module and function?\n",
        "\n",
        "ans: The pprint module provides a capability to “pretty-print”  well-formatted and more readable way pprint.pprint() for this we can  use import pprint module \n",
        "example:"
      ],
      "metadata": {
        "id": "wdxPzhXLm01U"
      }
    },
    {
      "cell_type": "code",
      "source": [
        "import pprint\n",
        "dct = [\n",
        "  {'Name': 'Ashish', 'Age': '23', 'Country': 'India'},\n",
        "  {'Name': 'jitesh', 'Age': '44', 'Country': 'Spain'},\n",
        "  {'Name': 'amit', 'Age': '29', 'Country': 'UK'},\n",
        "  {'Name': 'Sanket', 'Age': '35', 'Country': 'Japan'}\n",
        "]\n",
        "\n",
        "pprint.pprint(dct)"
      ],
      "metadata": {
        "colab": {
          "base_uri": "https://localhost:8080/"
        },
        "id": "NL4lqy-lnLne",
        "outputId": "519c4e31-5ff5-4762-b748-a6d0e9a6aa89"
      },
      "execution_count": 1,
      "outputs": [
        {
          "output_type": "stream",
          "name": "stdout",
          "text": [
            "[{'Age': '23', 'Country': 'India', 'Name': 'Ashish'},\n",
            " {'Age': '44', 'Country': 'Spain', 'Name': 'jitesh'},\n",
            " {'Age': '29', 'Country': 'UK', 'Name': 'amit'},\n",
            " {'Age': '35', 'Country': 'Japan', 'Name': 'Sanket'}]\n"
          ]
        }
      ]
    }
  ]
}