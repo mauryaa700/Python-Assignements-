{
  "nbformat": 4,
  "nbformat_minor": 0,
  "metadata": {
    "colab": {
      "name": "Assignment 3.ipynb",
      "provenance": []
    },
    "kernelspec": {
      "name": "python3",
      "display_name": "Python 3"
    },
    "language_info": {
      "name": "python"
    }
  },
  "cells": [
    {
      "cell_type": "markdown",
      "source": [
        "# 1. Why are functions advantageous to have in your programs?\n",
        "\n",
        "Ans: Function are really usefull in our program by using fuction we can use same programm again and again it makes our program reusable.it makes our program efficient.\n",
        "\n"
      ],
      "metadata": {
        "id": "Xt6thYWy77yf"
      }
    },
    {
      "cell_type": "markdown",
      "source": [
        "# 2. When does the code in a function run: when it specified or when it called?\n",
        "ans: The fuction run when it called for ex:\n",
        "\n",
        "> Indented block\n",
        "\n",
        "\n"
      ],
      "metadata": {
        "id": "PiNdJne-9zuF"
      }
    },
    {
      "cell_type": "code",
      "execution_count": 1,
      "metadata": {
        "colab": {
          "base_uri": "https://localhost:8080/"
        },
        "id": "PWodm7t772tC",
        "outputId": "e398beba-ae29-4a0b-cd9a-e9067501ffe5"
      },
      "outputs": [
        {
          "output_type": "stream",
          "name": "stdout",
          "text": [
            "Ineuron\n"
          ]
        }
      ],
      "source": [
        "#defining a function\n",
        "def func():\n",
        "  print(\"Ineuron\")\n",
        "\n",
        "#function calling \n",
        "func()\n"
      ]
    },
    {
      "cell_type": "markdown",
      "source": [
        "#3. What statement creates a function?\n",
        "\n",
        "Ans: for creating Function we use>> def keyword the syntax of user defined function is \n",
        "\n",
        "      def func():"
      ],
      "metadata": {
        "id": "dlNElfr4_K0T"
      }
    },
    {
      "cell_type": "markdown",
      "source": [
        "#4. What is the difference between a function and a function call?\n",
        "\n",
        "Ans: A function is defined by def keyword and it contain code on the other hand fuction call is execute the program.\n"
      ],
      "metadata": {
        "id": "M-kjB-wH_xvk"
      }
    },
    {
      "cell_type": "markdown",
      "source": [
        "#5. How many global scopes are there in a Python program? How many local scopes?\n",
        "ans: In python program global scopes are define outside the fuction and local scope are inside the func if we want to use global in side fuction we can use global keyword\n",
        "\n",
        "In fuction there is 1 global and 1 local scope."
      ],
      "metadata": {
        "id": "ryse7oXtA2eQ"
      }
    },
    {
      "cell_type": "code",
      "source": [
        "a=19                  #global scpope\n",
        "def func():\n",
        "  a=88                #locl scope\n",
        "  print(a)\n",
        "func()"
      ],
      "metadata": {
        "id": "9kx8COQkJbNU"
      },
      "execution_count": null,
      "outputs": []
    },
    {
      "cell_type": "markdown",
      "source": [
        "#6. What happens to variables in a local scope when the function call returns?\n",
        "ans: the fuction always execute local variable when the fuction is called "
      ],
      "metadata": {
        "id": "0PxYtxjXKOo5"
      }
    },
    {
      "cell_type": "markdown",
      "source": [
        "#6. What is the concept of a return value? Is it possible to have a return value in an expression?\n",
        "ans: A retrun statement in fuction is used to exit from fuction and goes to fuction call by default Return is none type and return value is a expression that fuction call evaluate "
      ],
      "metadata": {
        "id": "pJ3WqpEiWBXw"
      }
    },
    {
      "cell_type": "markdown",
      "source": [
        "#8. If a function does not have a return statement, what is the return value of a call to that function?\n",
        "\n",
        "Ans: Fuction always return none if doen not have return statement "
      ],
      "metadata": {
        "id": "hY0jEtnEYHgN"
      }
    },
    {
      "cell_type": "code",
      "source": [
        "def func():\n",
        "  a=10\n",
        "  print(a)\n",
        "func()\n",
        "type(func())\n"
      ],
      "metadata": {
        "colab": {
          "base_uri": "https://localhost:8080/"
        },
        "id": "pBLC4MwPYfAL",
        "outputId": "343a927b-bfad-4b86-ec8c-bb60434589d6"
      },
      "execution_count": 6,
      "outputs": [
        {
          "output_type": "stream",
          "name": "stdout",
          "text": [
            "10\n",
            "10\n"
          ]
        },
        {
          "output_type": "execute_result",
          "data": {
            "text/plain": [
              "NoneType"
            ]
          },
          "metadata": {},
          "execution_count": 6
        }
      ]
    },
    {
      "cell_type": "markdown",
      "source": [
        "#9. How do you make a function variable refer to the global variable?\n",
        "\n",
        "Ans: we can use  globle variable inside fution by using globle keyword."
      ],
      "metadata": {
        "id": "A0cVEZRTZCzI"
      }
    },
    {
      "cell_type": "code",
      "source": [
        "def func():\n",
        "  global a\n",
        "  a+=1\n",
        "  print(a)\n",
        "a=10\n",
        "\n",
        "func()\n",
        "  "
      ],
      "metadata": {
        "colab": {
          "base_uri": "https://localhost:8080/"
        },
        "id": "Iqn1il6WZmiC",
        "outputId": "21ba70f3-be34-4e79-aebf-fdb96f656897"
      },
      "execution_count": 13,
      "outputs": [
        {
          "output_type": "stream",
          "name": "stdout",
          "text": [
            "11\n"
          ]
        }
      ]
    },
    {
      "cell_type": "markdown",
      "source": [
        "#10. What is the data type of None?\n",
        "ans: The data type of None is NoneType.\n",
        "\n"
      ],
      "metadata": {
        "id": "tKZ7T8E6JZu8"
      }
    },
    {
      "cell_type": "code",
      "source": [
        "type(None)"
      ],
      "metadata": {
        "colab": {
          "base_uri": "https://localhost:8080/"
        },
        "id": "ezhGcBoWdKZE",
        "outputId": "8682b219-02e5-4aea-d565-2b8f235dccb8"
      },
      "execution_count": 14,
      "outputs": [
        {
          "output_type": "execute_result",
          "data": {
            "text/plain": [
              "NoneType"
            ]
          },
          "metadata": {},
          "execution_count": 14
        }
      ]
    },
    {
      "cell_type": "markdown",
      "source": [
        "#11. What does the sentence import areallyourpetsnamederic do?\n",
        "\n",
        "ans: import statement are used to import module \n"
      ],
      "metadata": {
        "id": "v_BwcCMM74Ps"
      }
    },
    {
      "cell_type": "markdown",
      "source": [
        "#12. If you had a bacon() feature in a spam module, what would you call it after importing spam?\n",
        "ans:\n",
        "\n",
        "    spam.bacon()"
      ],
      "metadata": {
        "id": "A4cBcCbTeml8"
      }
    },
    {
      "cell_type": "markdown",
      "source": [
        "#13. What can you do to save a programme from crashing if it encounters an error?\n",
        "\n",
        "ans: We can use exception handling technique like try  and except keyword like :"
      ],
      "metadata": {
        "id": "JwIgYjoge3Q9"
      }
    },
    {
      "cell_type": "code",
      "source": [
        "try:\n",
        "    g = 5//0  # raises divide by zero exception.\n",
        "    print(g)\n",
        " \n",
        "# handles zerodivision exception\n",
        "except ZeroDivisionError:\n",
        "    print(\"Can't divide by zero\")\n",
        " \n",
        "finally:\n",
        "    # this block is always executed\n",
        "    # regardless of exception generation.\n",
        "    print('This is always executed')"
      ],
      "metadata": {
        "id": "BKY_Wk6Uf5nX"
      },
      "execution_count": null,
      "outputs": []
    },
    {
      "cell_type": "markdown",
      "source": [
        "#14. What is the purpose of the try clause? What is the purpose of the except clause?\n",
        "\n",
        "Ans:\n",
        "1. try clouse: try must contain expression that produces error basically catch exception \n",
        "2. except clouse: It is used for handle by throwing error messege or it contain user define error message "
      ],
      "metadata": {
        "id": "Euogw-1egW5W"
      }
    }
  ]
}