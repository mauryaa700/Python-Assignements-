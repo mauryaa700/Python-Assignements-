{
  "nbformat": 4,
  "nbformat_minor": 0,
  "metadata": {
    "colab": {
      "name": "Py_Assignement 4.ipynb",
      "provenance": []
    },
    "kernelspec": {
      "name": "python3",
      "display_name": "Python 3"
    },
    "language_info": {
      "name": "python"
    }
  },
  "cells": [
    {
      "cell_type": "markdown",
      "source": [
        "#1. What exactly is []?\n",
        "Ans: Empty list"
      ],
      "metadata": {
        "id": "V1GcrzhE1xnN"
      }
    },
    {
      "cell_type": "markdown",
      "source": [
        "#2. In a list of values stored in a variable called spam, how would you assign the value \"hello\" as the third value? (Assume [2, 4, 6, 8, 10] are in spam.)\n",
        "ans: To assigne any value in list and any position we can use indexing In python we indexing start from 0-n\n",
        "so in this case we have use use following:\n"
      ],
      "metadata": {
        "id": "DmTkPzXG2D8g"
      }
    },
    {
      "cell_type": "code",
      "source": [
        "spam=[2, 4, 6, 8, 10]\n",
        "spam[2]=\"hello\"\n",
        "print(spam)"
      ],
      "metadata": {
        "colab": {
          "base_uri": "https://localhost:8080/"
        },
        "id": "BIRzimnf3J8V",
        "outputId": "239fb238-57d7-425a-cc28-4ccd6c274143"
      },
      "execution_count": 2,
      "outputs": [
        {
          "output_type": "stream",
          "name": "stdout",
          "text": [
            "[2, 4, 'hello', 8, 10]\n"
          ]
        }
      ]
    },
    {
      "cell_type": "markdown",
      "source": [
        "#3. What is the value of\n",
        "    spam[int(int('3'* 2) / 11)]?\n",
        "Ans:The expression inside the spam evaluate 3 hence it is in square brackets so we can use as a index or we can say that this expression can be used any where "
      ],
      "metadata": {
        "id": "B5QW_kE12D7F"
      }
    },
    {
      "cell_type": "code",
      "execution_count": 15,
      "metadata": {
        "colab": {
          "base_uri": "https://localhost:8080/",
          "height": 36
        },
        "id": "wmtCqQSe1D4T",
        "outputId": "0e869901-93fa-41f9-af88-44f9ba5224b7"
      },
      "outputs": [
        {
          "output_type": "execute_result",
          "data": {
            "text/plain": [
              "'hello'"
            ],
            "application/vnd.google.colaboratory.intrinsic+json": {
              "type": "string"
            }
          },
          "metadata": {},
          "execution_count": 15
        }
      ],
      "source": [
        "spam=[1,2,3,\"hello\",6]\n",
        "spam[int(\"3\"*2)//11]\n"
      ]
    },
    {
      "cell_type": "markdown",
      "source": [
        "#4. What is the value of spam[-1]?\n",
        "\n",
        "Ans: "
      ],
      "metadata": {
        "id": "AreOvrB68FE2"
      }
    },
    {
      "cell_type": "code",
      "source": [
        "spam[-1]"
      ],
      "metadata": {
        "colab": {
          "base_uri": "https://localhost:8080/"
        },
        "id": "0PW2XSi35bz2",
        "outputId": "5abd8ec9-3432-4419-d248-5968c2518b4d"
      },
      "execution_count": 16,
      "outputs": [
        {
          "output_type": "execute_result",
          "data": {
            "text/plain": [
              "6"
            ]
          },
          "metadata": {},
          "execution_count": 16
        }
      ]
    },
    {
      "cell_type": "markdown",
      "source": [
        "#5. What is the value of spam[:2]?\n",
        "Ans : Here we are working in list slicing so "
      ],
      "metadata": {
        "id": "_dDvVlDs8WA1"
      }
    },
    {
      "cell_type": "code",
      "source": [
        "spam=[1,4,\"Datascientist\",8]\n",
        "spam[1:3]"
      ],
      "metadata": {
        "colab": {
          "base_uri": "https://localhost:8080/"
        },
        "id": "s9lpYDaA8lXk",
        "outputId": "da5d0cdb-b184-4269-ccd7-7189f4c140d7"
      },
      "execution_count": 3,
      "outputs": [
        {
          "output_type": "execute_result",
          "data": {
            "text/plain": [
              "[4, 'Datascientist']"
            ]
          },
          "metadata": {},
          "execution_count": 3
        }
      ]
    },
    {
      "cell_type": "markdown",
      "source": [
        "#----------Let's pretend bacon has the list [3.14, 'cat',11, 'cat', True] for the next three questions.-----------"
      ],
      "metadata": {
        "id": "-lonWBdt3vXx"
      }
    },
    {
      "cell_type": "markdown",
      "source": [
        "###6. What is the value of bacon.index(\"cat\")?\n",
        "\n",
        "ans: As we know the rule of indexing start from zero.\n",
        "So in above mention list of items include 2 same elements so it take first come basic below code shows us index 1 "
      ],
      "metadata": {
        "id": "aUd9KXrL4bH6"
      }
    },
    {
      "cell_type": "code",
      "source": [
        "bacon= [3.14, 'cat',11, 'cat', True]\n",
        "bacon.index('cat')"
      ],
      "metadata": {
        "colab": {
          "base_uri": "https://localhost:8080/"
        },
        "id": "QMdDKEAX4o9z",
        "outputId": "01416119-4f1e-4a54-aed8-2d3f7a5a368a"
      },
      "execution_count": 4,
      "outputs": [
        {
          "output_type": "execute_result",
          "data": {
            "text/plain": [
              "1"
            ]
          },
          "metadata": {},
          "execution_count": 4
        }
      ]
    },
    {
      "cell_type": "markdown",
      "source": [
        "###7. How does bacon.append(99) change the look of the list value in bacon?\n",
        "Ans: append fuction add value at last so in mention list the value 99 add at last of list."
      ],
      "metadata": {
        "id": "jz2_QmwM5n8W"
      }
    },
    {
      "cell_type": "code",
      "source": [
        "bacon.append(99)\n",
        "print(bacon)"
      ],
      "metadata": {
        "colab": {
          "base_uri": "https://localhost:8080/"
        },
        "id": "IxY5U-Lw52I3",
        "outputId": "c8ab3595-2073-4e23-8796-a6834241f960"
      },
      "execution_count": 15,
      "outputs": [
        {
          "output_type": "stream",
          "name": "stdout",
          "text": [
            "[3.14, 'cat', 11, 'cat', True, 99]\n"
          ]
        }
      ]
    },
    {
      "cell_type": "markdown",
      "source": [
        "###8. How does bacon.remove(\"cat\") change the look of the list in bacon?\n",
        "\n",
        "Ans: it remove the cat element from list by indexing "
      ],
      "metadata": {
        "id": "BYDuk8JY6R4H"
      }
    },
    {
      "cell_type": "code",
      "source": [
        "bacon.remove(\"cat\")\n",
        "bacon"
      ],
      "metadata": {
        "colab": {
          "base_uri": "https://localhost:8080/"
        },
        "id": "WPjGbR3J6Z-X",
        "outputId": "4a579726-5794-43bd-87fc-a7cfd6a17029"
      },
      "execution_count": 16,
      "outputs": [
        {
          "output_type": "execute_result",
          "data": {
            "text/plain": [
              "[3.14, 11, 'cat', True, 99]"
            ]
          },
          "metadata": {},
          "execution_count": 16
        }
      ]
    },
    {
      "cell_type": "markdown",
      "source": [
        "###9. What are the list concatenation and list replication operators?\n",
        "Ans: \"+\" operator is used for List concatenation \n",
        "2. \" * \" operator is used for list replication"
      ],
      "metadata": {
        "id": "ep47EvfG6vC5"
      }
    },
    {
      "cell_type": "markdown",
      "source": [
        "###10. What is difference between the list methods append() and insert()?\n",
        "Ans:\n",
        "1. append method is used to append element at last place of the list.\n",
        "2. insert always take 2 argument first is index no. and second is element want to insert at place of index"
      ],
      "metadata": {
        "id": "my_kQ4sk7hFI"
      }
    },
    {
      "cell_type": "code",
      "source": [
        "# append operation \n",
        "a=[1,2,3,4,5]\n",
        "a.append(\"hello\")\n",
        "a"
      ],
      "metadata": {
        "colab": {
          "base_uri": "https://localhost:8080/"
        },
        "id": "rGlE7ZgQ7m44",
        "outputId": "4a863630-becd-41bb-9fce-92fcbf6a8f10"
      },
      "execution_count": 17,
      "outputs": [
        {
          "output_type": "execute_result",
          "data": {
            "text/plain": [
              "[1, 2, 3, 4, 5, 'hello']"
            ]
          },
          "metadata": {},
          "execution_count": 17
        }
      ]
    },
    {
      "cell_type": "code",
      "source": [
        "# insert operation\n",
        "a.insert(2,\"me\")\n",
        "a"
      ],
      "metadata": {
        "colab": {
          "base_uri": "https://localhost:8080/"
        },
        "id": "7VUmcgzi7vDS",
        "outputId": "c49f7c9f-193a-41de-b048-09a6052eb78e"
      },
      "execution_count": 20,
      "outputs": [
        {
          "output_type": "execute_result",
          "data": {
            "text/plain": [
              "[1, 2, 'me', 'me', 3, 4, 5, 'hello']"
            ]
          },
          "metadata": {},
          "execution_count": 20
        }
      ]
    },
    {
      "cell_type": "markdown",
      "source": [
        "###11. What are the two methods for removing items from a list?\n",
        "Ans: Python list pop() is an inbuilt function in Python that removes and returns the last value from the List or the given index value.\n",
        "2. remove() is also inbuild function in python that remove given element as a argument so if we want to remove perticular item from list we can use remove(\"item_name\")"
      ],
      "metadata": {
        "id": "IedmRggs8al2"
      }
    },
    {
      "cell_type": "code",
      "source": [
        "b=[1,2,3,4,'hello']\n",
        "\n",
        "b.pop()\n",
        "b"
      ],
      "metadata": {
        "colab": {
          "base_uri": "https://localhost:8080/"
        },
        "id": "X3QN7HlG8lWm",
        "outputId": "82eaa78d-6f2b-4d48-f595-b16e38d7215e"
      },
      "execution_count": 29,
      "outputs": [
        {
          "output_type": "execute_result",
          "data": {
            "text/plain": [
              "[1, 2, 3, 4]"
            ]
          },
          "metadata": {},
          "execution_count": 29
        }
      ]
    },
    {
      "cell_type": "code",
      "source": [
        "b.remove(3)\n",
        "b"
      ],
      "metadata": {
        "colab": {
          "base_uri": "https://localhost:8080/"
        },
        "id": "S_aKBYgu-jz1",
        "outputId": "d6ba2147-0b96-4cbb-c7e5-f9f3192c80b1"
      },
      "execution_count": 30,
      "outputs": [
        {
          "output_type": "execute_result",
          "data": {
            "text/plain": [
              "[1, 2, 4]"
            ]
          },
          "metadata": {},
          "execution_count": 30
        }
      ]
    },
    {
      "cell_type": "markdown",
      "source": [
        "###12. Describe how list values and string values are identical.\n",
        "ANs: \n",
        "1. List and string both are used to store value  and both are sequence\n",
        "2. we can access both by using index "
      ],
      "metadata": {
        "id": "nBBY_y7--o_3"
      }
    },
    {
      "cell_type": "markdown",
      "source": [
        "###13. What's the difference between tuples and lists?\n",
        "ANs: \n",
        "1. List are mutable but Tuple are immutable "
      ],
      "metadata": {
        "id": "m1buBUze_a7A"
      }
    },
    {
      "cell_type": "markdown",
      "source": [
        "###14. How do you type a tuple value that only contains the integer 42?\n",
        "ans: This is special case or we can say it single item tuple so in this case we can use comma after element if we not use comma then it treated as simple value assignment \n"
      ],
      "metadata": {
        "id": "pRXqgkal_t6y"
      }
    },
    {
      "cell_type": "code",
      "source": [
        "a=(42,)\n",
        "a"
      ],
      "metadata": {
        "colab": {
          "base_uri": "https://localhost:8080/"
        },
        "id": "cpO2moMi_x8a",
        "outputId": "2f29295d-fa0a-4885-d266-f1cefcd75135"
      },
      "execution_count": 39,
      "outputs": [
        {
          "output_type": "execute_result",
          "data": {
            "text/plain": [
              "(42,)"
            ]
          },
          "metadata": {},
          "execution_count": 39
        }
      ]
    },
    {
      "cell_type": "markdown",
      "source": [
        "###15. How do you get a list value tuple form? How do you get a tuple value list form?\n",
        "Ans: "
      ],
      "metadata": {
        "id": "Jb0KlktYBY_B"
      }
    },
    {
      "cell_type": "code",
      "source": [
        "lst=[1,2,4]\n",
        "tuple(lst)"
      ],
      "metadata": {
        "colab": {
          "base_uri": "https://localhost:8080/"
        },
        "id": "cYKrT0h_Ce8R",
        "outputId": "9548ccf5-0593-4366-818a-0747f45bab99"
      },
      "execution_count": 40,
      "outputs": [
        {
          "output_type": "execute_result",
          "data": {
            "text/plain": [
              "(1, 2, 4)"
            ]
          },
          "metadata": {},
          "execution_count": 40
        }
      ]
    },
    {
      "cell_type": "code",
      "source": [
        "tpl=(1,2,5)\n",
        "list(tpl)"
      ],
      "metadata": {
        "colab": {
          "base_uri": "https://localhost:8080/"
        },
        "id": "YM0IlNEtCtMF",
        "outputId": "c3556583-fb25-4ef1-de6c-d3216e344c01"
      },
      "execution_count": 42,
      "outputs": [
        {
          "output_type": "execute_result",
          "data": {
            "text/plain": [
              "[1, 2, 5]"
            ]
          },
          "metadata": {},
          "execution_count": 42
        }
      ]
    },
    {
      "cell_type": "markdown",
      "source": [
        "###16. Variables that contains list values are not necessarily lists themselves. Instead, what do they contain?\n",
        "Ans: In python Variable msut contain data types in case of list it carry reference to list values rather then list values whenever variable contain mutable datatypes, \n"
      ],
      "metadata": {
        "id": "I7yWuNDXC91k"
      }
    },
    {
      "cell_type": "markdown",
      "source": [
        "### 17. How do you distinguish between copy.copy() and copy.deepcopy()?\n",
        "Ans:\n",
        "\n",
        "    copy.copy()\n",
        "This function create copy of object in other memory location so if we perform operation the original object not change example below"
      ],
      "metadata": {
        "id": "pm4NTts6GTw5"
      }
    },
    {
      "cell_type": "code",
      "source": [
        "lst1=[1,2,3,4]\n",
        "lst2=lst1\n",
        "\n",
        "lst2[1]=1000\n",
        "lst2\n",
        "lst1\n",
        "'''as we saw this operation changes orinal value as we know the lst1 and lst 2 are pointing same memory\n",
        "location so if we change the value of lst2 the lst1 automatically change '''\n"
      ],
      "metadata": {
        "colab": {
          "base_uri": "https://localhost:8080/"
        },
        "id": "MyRCsXABMmkX",
        "outputId": "ded51747-e4ed-4326-fc22-40f3d6d431bc"
      },
      "execution_count": 48,
      "outputs": [
        {
          "output_type": "execute_result",
          "data": {
            "text/plain": [
              "[1, 1000, 3, 4]"
            ]
          },
          "metadata": {},
          "execution_count": 48
        }
      ]
    },
    {
      "cell_type": "code",
      "source": [
        "#.copy() or shallow copy()\n",
        "lst1=[1,2,3,4]\n",
        "lst2=lst1.copy()\n",
        "lst2[1]=1000\n",
        "lst2\n",
        "''' this shallow copy() or copy() fuction does not changes origninal list \n",
        "because it makes lst2 in different memory location'''\n"
      ],
      "metadata": {
        "colab": {
          "base_uri": "https://localhost:8080/"
        },
        "id": "y3b8sxkwNvkE",
        "outputId": "e0e4146a-2765-499b-b147-1acb5280fb3b"
      },
      "execution_count": 49,
      "outputs": [
        {
          "output_type": "execute_result",
          "data": {
            "text/plain": [
              "[1, 1000, 3, 4]"
            ]
          },
          "metadata": {},
          "execution_count": 49
        }
      ]
    },
    {
      "cell_type": "code",
      "source": [
        "lst1"
      ],
      "metadata": {
        "colab": {
          "base_uri": "https://localhost:8080/"
        },
        "id": "b7hLS2-9OEfs",
        "outputId": "6c278771-fb5e-486a-ecdf-bd70f7ca6b5e"
      },
      "execution_count": 50,
      "outputs": [
        {
          "output_type": "execute_result",
          "data": {
            "text/plain": [
              "[1, 2, 3, 4]"
            ]
          },
          "metadata": {},
          "execution_count": 50
        }
      ]
    },
    {
      "cell_type": "code",
      "source": [
        "#but shallow copy does not work when list has nested list \n",
        "import copy\n",
        "lst1=[1,2,[5,6,7,8],[11,22,33,44]]  # nested list\n",
        "lst2=copy.copy(lst1)\n"
      ],
      "metadata": {
        "id": "hS4wDeLsOhnx"
      },
      "execution_count": 56,
      "outputs": []
    },
    {
      "cell_type": "code",
      "source": [
        "lst2[2][1]=1000\n",
        "lst2"
      ],
      "metadata": {
        "colab": {
          "base_uri": "https://localhost:8080/"
        },
        "id": "UnGFQedMXA9F",
        "outputId": "de8308e9-ee64-4c09-b578-4dba97162f60"
      },
      "execution_count": 58,
      "outputs": [
        {
          "output_type": "execute_result",
          "data": {
            "text/plain": [
              "[1, 2, [5, 1000, 7, 8], [11, 22, 33, 44]]"
            ]
          },
          "metadata": {},
          "execution_count": 58
        }
      ]
    },
    {
      "cell_type": "code",
      "source": [
        "lst1\n",
        "'''but here in nested list copy.copy() not work so in this case we can use deepcopy() '''"
      ],
      "metadata": {
        "colab": {
          "base_uri": "https://localhost:8080/"
        },
        "id": "6vIQT7CxX1Cb",
        "outputId": "281f6251-ce7e-4927-ba55-3e05bd23cbd0"
      },
      "execution_count": 59,
      "outputs": [
        {
          "output_type": "execute_result",
          "data": {
            "text/plain": [
              "[1, 2, [5, 1000, 7, 8], [11, 22, 33, 44]]"
            ]
          },
          "metadata": {},
          "execution_count": 59
        }
      ]
    },
    {
      "cell_type": "markdown",
      "source": [
        "deepcopy is process where each object is copy recusively.It means first make a new collection object and then recursively populating it with copies of the child objects found in the original\n",
        "\n",
        "      copy.deepcopy()"
      ],
      "metadata": {
        "id": "HB7ZQlX-ZoHn"
      }
    },
    {
      "cell_type": "code",
      "source": [
        "# Deepcopy()\n",
        "import copy\n",
        "lst1=[1,2,[5,6,7,8],[11,22,33,44]]  # nested list\n",
        "lst2=copy.deepcopy(lst1)\n",
        "lst2[2][1]=1000\n",
        "lst2"
      ],
      "metadata": {
        "colab": {
          "base_uri": "https://localhost:8080/"
        },
        "id": "tc7U-OebYZgV",
        "outputId": "15de1dac-d4f4-4018-d3f6-c0e25508e75c"
      },
      "execution_count": 60,
      "outputs": [
        {
          "output_type": "execute_result",
          "data": {
            "text/plain": [
              "[1, 2, [5, 1000, 7, 8], [11, 22, 33, 44]]"
            ]
          },
          "metadata": {},
          "execution_count": 60
        }
      ]
    },
    {
      "cell_type": "code",
      "source": [
        "lst1"
      ],
      "metadata": {
        "colab": {
          "base_uri": "https://localhost:8080/"
        },
        "id": "etz9AygXYg8j",
        "outputId": "3627e804-c0fc-433f-f42b-cba634220208"
      },
      "execution_count": 61,
      "outputs": [
        {
          "output_type": "execute_result",
          "data": {
            "text/plain": [
              "[1, 2, [5, 6, 7, 8], [11, 22, 33, 44]]"
            ]
          },
          "metadata": {},
          "execution_count": 61
        }
      ]
    },
    {
      "cell_type": "markdown",
      "source": [
        "difference between copy.copy() and copy.deepcopy()\n",
        "\n",
        "The difference between shallow and deep copying is only relevant for nested or compund objects (objects that contain other objects, like lists or class instances) above we have seen example :\n",
        "1. A shallow copy constructs a new compound object and then inserts references into it to the objects found in the original.\n",
        "2. A deep copy constructs a new compound object and then, recursively, inserts copies into it of the objects found in the original."
      ],
      "metadata": {
        "id": "hUqvzyUMYqQh"
      }
    }
  ]
}