{
  "nbformat": 4,
  "nbformat_minor": 0,
  "metadata": {
    "colab": {
      "name": "Assignement 1",
      "provenance": []
    },
    "kernelspec": {
      "name": "python3",
      "display_name": "Python 3"
    },
    "language_info": {
      "name": "python"
    }
  },
  "cells": [
    {
      "cell_type": "markdown",
      "source": [
        "# **Assignment 1**"
      ],
      "metadata": {
        "id": "upAlReBON-er"
      }
    },
    {
      "cell_type": "markdown",
      "source": [
        "# Q1. In the below elements which of them are values or an expression? eg:- values can be integer or string and expressions will be mathematical operators.\n",
        "\n",
        "Ans: An expression is a combination of Values and operators which they produce some result. Here *, -, /, +, %,= etc are operators and \"hello\", -87.8 and 6 are values. Below code clearly defines an expression and use."
      ],
      "metadata": {
        "id": "O4rm1NtYO3z_"
      }
    },
    {
      "cell_type": "code",
      "execution_count": null,
      "metadata": {
        "colab": {
          "base_uri": "https://localhost:8080/"
        },
        "id": "9food4yON1ge",
        "outputId": "971bcc6d-ad50-4185-883e-80e807500b97"
      },
      "outputs": [
        {
          "output_type": "stream",
          "name": "stdout",
          "text": [
            "-81.8\n",
            "The multiplecation of -87.8 and 6 is : -526.8\n"
          ]
        }
      ],
      "source": [
        "#Here we use expression combination of values and operators\n",
        "a=-87.8\n",
        "b=6\n",
        "c=a+b          # use + operator\n",
        "print(c)\n",
        "print(f\"The multiplecation of {a} and {b} is : {a*b}\")          \n"
      ]
    },
    {
      "cell_type": "markdown",
      "source": [
        "# Q2. What is the difference between string and variable?                          \n",
        "ans: String is a Datatype and series of characters.We can use String Use quotes, either single-quotes or double-quotes to create string.\n",
        "On the other hand Variable are name of memory location basically used to store  some value in memory location."
      ],
      "metadata": {
        "id": "iV6vslAjR8dO"
      }
    },
    {
      "cell_type": "code",
      "source": [
        "#Example of String \n",
        "a=\"Ashish Maurya\"\n",
        "print(a)\n",
        "'''here we can see in double inverted commas are string and a is variable '''"
      ],
      "metadata": {
        "id": "aSy40Xc8T56d"
      },
      "execution_count": null,
      "outputs": []
    },
    {
      "cell_type": "markdown",
      "source": [
        "# Q3. Describe three different data types.                                                                        Ans: In python there are several different data types but most important data types are (int, string, float, booleon, complex) and sequence type (list, tuple) and other important datatypes are Dict, set , range"
      ],
      "metadata": {
        "id": "R4Q1me5tUlCG"
      }
    },
    {
      "cell_type": "code",
      "source": [
        "#int datatypes \n",
        "a= 22           #int datatypes \n",
        "b=\"33\"          #Str datatypes \n",
        "c=-34.2          #floot datatypes \n",
        "d=True           #bool datatype\n",
        "g=1j             #complex datatypes \n",
        "x = [\"apple\", \"banana\", \"cherry\"]\t     #list datatypes\n",
        "j = (\"apple\", \"banana\", \"cherry\")        #tuple datatypes\n",
        "print(type(a))\n",
        "print(type(b))\n",
        "print(type(c))\n",
        "print(type(d))\n",
        "print(type(g))\n",
        "print(type(j))\n",
        "print(type(x))"
      ],
      "metadata": {
        "colab": {
          "base_uri": "https://localhost:8080/"
        },
        "id": "CYotoWcAWOZO",
        "outputId": "3397ef13-018c-4cf3-c540-0f268b54a5e2"
      },
      "execution_count": 1,
      "outputs": [
        {
          "output_type": "stream",
          "name": "stdout",
          "text": [
            "<class 'int'>\n",
            "<class 'str'>\n",
            "<class 'float'>\n",
            "<class 'bool'>\n",
            "<class 'complex'>\n",
            "<class 'tuple'>\n",
            "<class 'list'>\n"
          ]
        }
      ]
    },
    {
      "cell_type": "markdown",
      "source": [
        "# Q 4. What is an expression made up of? What do all expressions do?                                                                              \n",
        "Ans: An expression is made up of operators, variables and values.The basic work of Expression is to evaluate and shows the result"
      ],
      "metadata": {
        "id": "1BStNN13XsJC"
      }
    },
    {
      "cell_type": "markdown",
      "source": [
        "#5. This assignment statements, like spam = 10. What is the difference between an expression and a statement?\n",
        "\n",
        "Expression is a combination of var, values, operator for example 2.6,a+b,1+a. and expression can be evaluated some value or result\n",
        "A statement is a instruction/cammand  that given by the user or computer like print statment, in above example assignment statement like spam=10 \n",
        "we can clearly see that spam=10 is cammand \"assign the value 10 in a spam memory location that can be executed by the interpretor '''\n"
      ],
      "metadata": {
        "id": "Q-p4w5djI1sb"
      }
    },
    {
      "cell_type": "markdown",
      "source": [
        "# 6. After running the following code, what does the variable bacon contain?\n",
        "      bacon = 22 \n",
        "      bacon + 1 \n",
        "\n",
        "\n",
        "####Ans: if we try to run above code the interpretor check the first line :\n",
        "a: The first line of code assign the value 22 in bacon and the next line add 1 in variable bacon \n",
        "so the result is 23 \n"
      ],
      "metadata": {
        "id": "4i5KT8voJGJ5"
      }
    },
    {
      "cell_type": "code",
      "source": [
        "\n",
        "bacon=22\n",
        "bacon+1"
      ],
      "metadata": {
        "colab": {
          "base_uri": "https://localhost:8080/"
        },
        "id": "sSX0TMDrHBsF",
        "outputId": "417485e6-d554-4969-b5bd-aaece735a321"
      },
      "execution_count": null,
      "outputs": [
        {
          "output_type": "execute_result",
          "data": {
            "text/plain": [
              "23"
            ]
          },
          "metadata": {},
          "execution_count": 4
        }
      ]
    },
    {
      "cell_type": "markdown",
      "source": [
        "# 7. What should the values of the following two terms be?\n",
        "    \"spam\"+\"spamspam\",\n",
        "    \"spam\"*3                                                                       \n",
        "  Ans: the value will be same \n"
      ],
      "metadata": {
        "id": "5p4proclJJG9"
      }
    },
    {
      "cell_type": "code",
      "source": [
        "c=\"spam\" + \"spamspam\"\n",
        "a=\"spam\"*3\n",
        "print(c)\n",
        "print(a)"
      ],
      "metadata": {
        "colab": {
          "base_uri": "https://localhost:8080/"
        },
        "id": "yGg4ipQxIhkf",
        "outputId": "07c9fb8e-7672-4655-e9af-7e3803d4a50a"
      },
      "execution_count": 2,
      "outputs": [
        {
          "output_type": "stream",
          "name": "stdout",
          "text": [
            "spamspamspam\n",
            "spamspamspam\n"
          ]
        }
      ]
    },
    {
      "cell_type": "markdown",
      "source": [
        "# 8. Why is eggs a valid variable name while 100 is invalid?\n",
        "Ans: There are differnt reason why eggs is valid and 1000 is invalid.In python we have a rule for writing a variable the rules are given below:\n",
        "\n",
        "1: A variable name can not start with Number either we can add no. in middle of variable name example: ineu8, innov8.\n",
        "\n",
        "2: A variable name can only contain alpha numeric characker.for example:\n",
        "   ineur_on7,python_01 \n",
        "\n",
        "3: A variable name only be start from character or underscore ex: book,_book\n",
        "is valid example \n",
        "\n",
        "4:At last In python variable name is case senstive Eggs, eggs and EGGS can be treated as different variable name however the meaning is same but python is case senstive.\n",
        "\n",
        "So by above mention python variable name rule we can say say that eggs is valid and 1000 is invalid "
      ],
      "metadata": {
        "id": "xmz693YzJ0bM"
      }
    },
    {
      "cell_type": "code",
      "source": [
        "eggs=10\n",
        "print(eggs)"
      ],
      "metadata": {
        "colab": {
          "base_uri": "https://localhost:8080/"
        },
        "id": "2JDlXYICM4wC",
        "outputId": "da858f03-1e45-486f-8147-cbddd5cf70e5"
      },
      "execution_count": null,
      "outputs": [
        {
          "output_type": "stream",
          "name": "stdout",
          "text": [
            "10\n"
          ]
        }
      ]
    },
    {
      "cell_type": "markdown",
      "source": [
        "# 9. What three functions can be used to get the integer, floating-point number, or string version of a value?\n",
        "\n",
        "Ans fuctions are alwayes in paranthesis () \n",
        "1. for Integer we can use int()\n",
        "2. for float : float()\n",
        "3. for string : str()"
      ],
      "metadata": {
        "id": "KzdgWxtZQ7JC"
      }
    },
    {
      "cell_type": "markdown",
      "source": [
        "# 10. Why does this expression cause an error? How can you fix it?\n",
        "        \"i have eaten\" + 99  + \"burrytos\"\n",
        "\n",
        "ans> when to try to execute this code we got this TypeError: can only concatenate str (not \"int\") to str.\n",
        "this means we are trying to concatenate 2 different data types and in python we can not directly concatenate 2 diff datatypes however we can resolve this issue by converting int to str like:  \n",
        "    \n",
        "    \"i have eaten\" + str(99) + \"Burrytos\""
      ],
      "metadata": {
        "id": "rRj480tnRB2b"
      }
    },
    {
      "cell_type": "code",
      "source": [
        "\"i have eaten\" + 99  + \"burrytos\""
      ],
      "metadata": {
        "colab": {
          "base_uri": "https://localhost:8080/",
          "height": 165
        },
        "id": "xq2lQgW1RnzU",
        "outputId": "b621a8d8-73f5-4071-d2f6-fe07a0f0f93c"
      },
      "execution_count": 3,
      "outputs": [
        {
          "output_type": "error",
          "ename": "TypeError",
          "evalue": "ignored",
          "traceback": [
            "\u001b[0;31m---------------------------------------------------------------------------\u001b[0m",
            "\u001b[0;31mTypeError\u001b[0m                                 Traceback (most recent call last)",
            "\u001b[0;32m<ipython-input-3-44eba8e5a672>\u001b[0m in \u001b[0;36m<module>\u001b[0;34m()\u001b[0m\n\u001b[0;32m----> 1\u001b[0;31m \u001b[0;34m\"i have eaten\"\u001b[0m \u001b[0;34m+\u001b[0m \u001b[0;36m99\u001b[0m  \u001b[0;34m+\u001b[0m \u001b[0;34m\"burrytos\"\u001b[0m\u001b[0;34m\u001b[0m\u001b[0;34m\u001b[0m\u001b[0m\n\u001b[0m",
            "\u001b[0;31mTypeError\u001b[0m: can only concatenate str (not \"int\") to str"
          ]
        }
      ]
    }
  ]
}